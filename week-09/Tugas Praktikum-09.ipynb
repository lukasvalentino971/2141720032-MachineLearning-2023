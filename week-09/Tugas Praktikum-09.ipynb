{
  "cells": [
    {
      "cell_type": "markdown",
      "metadata": {
        "id": "1x6qqKzmsiXh"
      },
      "source": [
        "# Tugas Praktikum"
      ]
    },
    {
      "cell_type": "markdown",
      "metadata": {
        "id": "DwCUJ0srspHT"
      },
      "source": [
        "- Lakukan klasifikasi pada data MNIST dengan menggunakan model ANN\n",
        "- Anda diperbolehkan melakukan eksplorasi terhadap,\n",
        "  - Metode pra pengolahan\n",
        "  - Pemilihan fitur\n",
        "  - Arsitektur ANN\n",
        "  - Fungsi Aktiviasi\n",
        "- ANN diimplementasikan dengan menggunakan tensorflow.\n",
        "- DIKERJAKAN SECARA BERKELOMPOK\n",
        "- JELASKAN HASIL YANG ANDA DAPATKAN,\n",
        "  - AKURASI\n",
        "  - CONFUSION MATRIX\n",
        "  - KONFIGURASI MODEL --> MULAI DARI PRA PENGOLAHAN SAMPAI ARSITEKTUR ANN"
      ]
    },
    {
      "cell_type": "markdown",
      "metadata": {
        "id": "92zZ2bI7oyoO"
      },
      "source": [
        "### Langkah 1 - Import Library"
      ]
    },
    {
      "cell_type": "code",
      "execution_count": 1,
      "metadata": {
        "id": "of_7jNkhlhjk"
      },
      "outputs": [],
      "source": [
        "import tensorflow as tf\n",
        "from tensorflow import keras\n",
        "from tensorflow.keras import layers"
      ]
    },
    {
      "cell_type": "markdown",
      "metadata": {
        "id": "E1eDmvX6qd1Q"
      },
      "source": [
        "### Langkah 2 - Pra-pengolahan data MNIST"
      ]
    },
    {
      "cell_type": "code",
      "execution_count": 2,
      "metadata": {
        "colab": {
          "base_uri": "https://localhost:8080/"
        },
        "id": "KaaAacqvpSFj",
        "outputId": "700e7444-918c-4746-ce9e-f1bbd924899e"
      },
      "outputs": [],
      "source": [
        "# Pra-pengolahan data\n",
        "(x_train, y_train), (x_test, y_test) = keras.datasets.mnist.load_data() # load data MNIST dan split data\n",
        "\n",
        "# ubah bentuk fitur menjadi vektor dan dinormalisasi\n",
        "x_train = x_train.reshape(-1, 784).astype(\"float32\") / 255.0\n",
        "x_test = x_test.reshape(-1, 784).astype(\"float32\") / 255.0"
      ]
    },
    {
      "cell_type": "markdown",
      "metadata": {
        "id": "wF92XUoDrIEs"
      },
      "source": [
        "### Langkkah 3 - Buat Arsitektur ANN"
      ]
    },
    {
      "cell_type": "code",
      "execution_count": 3,
      "metadata": {
        "id": "01saM11LpX_N"
      },
      "outputs": [],
      "source": [
        "# Arsitektur ANN\n",
        "# Terdiri dari 3 lapisan Dense dengan funsi aktivasi ReLU\n",
        "ann = keras.Sequential(\n",
        "    [\n",
        "        layers.Dense(256, activation=\"relu\"),\n",
        "        layers.Dense(128, activation=\"relu\"),\n",
        "        layers.Dense(10),\n",
        "    ]\n",
        ")\n"
      ]
    },
    {
      "cell_type": "markdown",
      "metadata": {
        "id": "x4QwyBZEregd"
      },
      "source": [
        "### Langkah 4 - Buat Fugsi Aktivasi"
      ]
    },
    {
      "cell_type": "code",
      "execution_count": 4,
      "metadata": {
        "id": "nSbGpP6bpeJN"
      },
      "outputs": [],
      "source": [
        "# Fungsi aktivasi\n",
        "ann.compile(\n",
        "    optimizer=keras.optimizers.Adam(0.001),\n",
        "    loss=keras.losses.SparseCategoricalCrossentropy(from_logits=True),\n",
        "    metrics=[\"accuracy\"],\n",
        ")"
      ]
    },
    {
      "cell_type": "markdown",
      "metadata": {
        "id": "56VJDOBfrnn2"
      },
      "source": [
        "### Langkah 5 - Latih Model ANN dan Lakukan Evaluasi Model"
      ]
    },
    {
      "cell_type": "code",
      "execution_count": 5,
      "metadata": {
        "colab": {
          "base_uri": "https://localhost:8080/"
        },
        "id": "NZAunUIRphw9",
        "outputId": "15ccdb0a-784f-4740-8347-e8feb737c130"
      },
      "outputs": [
        {
          "name": "stdout",
          "output_type": "stream",
          "text": [
            "Epoch 1/5\n",
            "1875/1875 - 6s - loss: 0.2094 - accuracy: 0.9366 - 6s/epoch - 3ms/step\n",
            "Epoch 2/5\n",
            "1875/1875 - 5s - loss: 0.0864 - accuracy: 0.9731 - 5s/epoch - 3ms/step\n",
            "Epoch 3/5\n",
            "1875/1875 - 5s - loss: 0.0586 - accuracy: 0.9814 - 5s/epoch - 3ms/step\n",
            "Epoch 4/5\n",
            "1875/1875 - 5s - loss: 0.0436 - accuracy: 0.9857 - 5s/epoch - 3ms/step\n",
            "Epoch 5/5\n",
            "1875/1875 - 5s - loss: 0.0344 - accuracy: 0.9887 - 5s/epoch - 3ms/step\n",
            "313/313 - 1s - loss: 0.0784 - accuracy: 0.9779 - 725ms/epoch - 2ms/step\n",
            "Test accuracy: 0.9779000282287598\n"
          ]
        }
      ],
      "source": [
        "# Pelatihan model\n",
        "# Model dilatih menggunakan data latih dengan batch size 32 dan epoch sebanyak 5 kali.\n",
        "ann.fit(x_train, y_train, batch_size=32, epochs=5, verbose=2)\n",
        "\n",
        "# Evaluasi model\n",
        "# Model dievaluasi menggunakan data uji dan menghitung akurasi.\n",
        "test_loss, test_acc = ann.evaluate(x_test, y_test, verbose=2)\n",
        "print(\"Test accuracy:\", test_acc)"
      ]
    },
    {
      "cell_type": "markdown",
      "metadata": {
        "id": "ZZjdJ6k2wjO3"
      },
      "source": [
        "### Langkah 6 - Tampilkan Confusion Matrix"
      ]
    },
    {
      "cell_type": "code",
      "execution_count": 6,
      "metadata": {
        "colab": {
          "base_uri": "https://localhost:8080/"
        },
        "id": "Uk8kALFrqRMy",
        "outputId": "2e637c6a-c09b-4a91-b1ac-43093e9a3b97"
      },
      "outputs": [
        {
          "name": "stdout",
          "output_type": "stream",
          "text": [
            "313/313 [==============================] - 1s 2ms/step\n",
            "Confusion matrix:\n",
            " tf.Tensor(\n",
            "[[ 973    0    1    0    1    0    2    1    2    0]\n",
            " [   0 1124    3    0    0    1    2    0    5    0]\n",
            " [   5    0 1002    2    1    0    1    8   12    1]\n",
            " [   2    0    0  993    0    2    0    5    5    3]\n",
            " [   1    1    3    0  952    0    6    2    1   16]\n",
            " [   4    0    0   10    1  866    2    2    5    2]\n",
            " [  10    3    0    0    3    7  926    3    6    0]\n",
            " [   1    3    7    1    1    0    0 1006    5    4]\n",
            " [   4    1    3    6    1    4    0    4  950    1]\n",
            " [   4    2    0    0    4    2    0    5    5  987]], shape=(10, 10), dtype=int32)\n"
          ]
        }
      ],
      "source": [
        "# Confusion matrix\n",
        "# Confusion matrix dihitung menggunakan data uji dan prediksi model.\n",
        "y_pred = ann.predict(x_test)\n",
        "confusion_matrix = tf.math.confusion_matrix(y_test, tf.argmax(y_pred, axis=1))\n",
        "print(\"Confusion matrix:\\n\", confusion_matrix)"
      ]
    }
  ],
  "metadata": {
    "colab": {
      "authorship_tag": "ABX9TyMTuMl9L2wwx5iAqBH5JUn3",
      "include_colab_link": true,
      "provenance": []
    },
    "kernelspec": {
      "display_name": "Python 3",
      "name": "python3"
    },
    "language_info": {
      "codemirror_mode": {
        "name": "ipython",
        "version": 3
      },
      "file_extension": ".py",
      "mimetype": "text/x-python",
      "name": "python",
      "nbconvert_exporter": "python",
      "pygments_lexer": "ipython3",
      "version": "3.11.4"
    }
  },
  "nbformat": 4,
  "nbformat_minor": 0
}
