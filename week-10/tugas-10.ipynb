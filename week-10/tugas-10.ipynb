{
  "cells": [
    {
      "cell_type": "markdown",
      "metadata": {
        "id": "3T22ueImYnFF"
      },
      "source": [
        "## **Jobsheet 10 | Pertemuan 10**\n",
        "## **Recurent Neural Network (RNN)**\n",
        "\n",
        "LukasValentino / 15 / 2141720032"
      ]
    },
    {
      "cell_type": "code",
      "execution_count": null,
      "metadata": {
        "id": "iy_uZ_K2YnFM"
      },
      "outputs": [],
      "source": [
        "import numpy as np\n",
        "import tensorflow_datasets as tfds\n",
        "import tensorflow as tf\n",
        "\n",
        "tfds.disable_progress_bar()"
      ]
    },
    {
      "cell_type": "code",
      "execution_count": null,
      "metadata": {
        "id": "3Xc4O7i2Yw3U"
      },
      "outputs": [],
      "source": [
        "import matplotlib.pyplot as plt\n",
        "\n",
        "def plot_graphs(history, metric):\n",
        "  plt.plot(history.history[metric])\n",
        "  plt.plot(history.history['val_'+metric], '')\n",
        "  plt.xlabel(\"Epochs\")\n",
        "  plt.ylabel(metric)\n",
        "  plt.legend([metric, 'val_'+metric])"
      ]
    },
    {
      "cell_type": "markdown",
      "metadata": {
        "id": "tcQZqdmPY9y9"
      },
      "source": [
        "### **Setup input pipeline**\n",
        "\n",
        "Dataset ulasan film IMDB adalah kumpulan data klasifikasi biner—semua ulasan memiliki sentimen positif atau negatif. <p>\n",
        "Download dataset menggunakan TFDS. Lihat loading text tutorial jika ingin me load data secara manual"
      ]
    },
    {
      "cell_type": "code",
      "execution_count": null,
      "metadata": {
        "colab": {
          "base_uri": "https://localhost:8080/"
        },
        "id": "1iFaqowFY9gv",
        "outputId": "c92d9193-e64e-4072-a0fa-4b1b09dc0a61"
      },
      "outputs": [
        {
          "name": "stdout",
          "output_type": "stream",
          "text": [
            "Downloading and preparing dataset 80.23 MiB (download: 80.23 MiB, generated: Unknown size, total: 80.23 MiB) to /root/tensorflow_datasets/imdb_reviews/plain_text/1.0.0...\n",
            "Dataset imdb_reviews downloaded and prepared to /root/tensorflow_datasets/imdb_reviews/plain_text/1.0.0. Subsequent calls will reuse this data.\n"
          ]
        },
        {
          "data": {
            "text/plain": [
              "(TensorSpec(shape=(), dtype=tf.string, name=None),\n",
              " TensorSpec(shape=(), dtype=tf.int64, name=None))"
            ]
          },
          "execution_count": 3,
          "metadata": {},
          "output_type": "execute_result"
        }
      ],
      "source": [
        "dataset, info = tfds.load('imdb_reviews', with_info=True,\n",
        "                          as_supervised=True)\n",
        "train_dataset, test_dataset = dataset['train'], dataset['test']\n",
        "\n",
        "train_dataset.element_spec"
      ]
    },
    {
      "cell_type": "markdown",
      "metadata": {
        "id": "P8h2lWBgZZLT"
      },
      "source": [
        "Awalnya ini mengembalikan dataset (teks, pasangan label):"
      ]
    },
    {
      "cell_type": "code",
      "execution_count": null,
      "metadata": {
        "colab": {
          "base_uri": "https://localhost:8080/"
        },
        "id": "wR2E19Q3ZbU2",
        "outputId": "3c81e38d-2845-4ec3-e15f-e8ef42a45ee3"
      },
      "outputs": [
        {
          "name": "stdout",
          "output_type": "stream",
          "text": [
            "text:  b\"This was an absolutely terrible movie. Don't be lured in by Christopher Walken or Michael Ironside. Both are great actors, but this must simply be their worst role in history. Even their great acting could not redeem this movie's ridiculous storyline. This movie is an early nineties US propaganda piece. The most pathetic scenes were those when the Columbian rebels were making their cases for revolutions. Maria Conchita Alonso appeared phony, and her pseudo-love affair with Walken was nothing but a pathetic emotional plug in a movie that was devoid of any real meaning. I am disappointed that there are movies like this, ruining actor's like Christopher Walken's good name. I could barely sit through it.\"\n",
            "label:  0\n"
          ]
        }
      ],
      "source": [
        "for example, label in train_dataset.take(1):\n",
        "  print('text: ', example.numpy())\n",
        "  print('label: ', label.numpy())"
      ]
    },
    {
      "cell_type": "code",
      "execution_count": null,
      "metadata": {
        "colab": {
          "base_uri": "https://localhost:8080/"
        },
        "id": "tcn_ylGSZe4E",
        "outputId": "4ac0d5df-86d6-4171-e529-bf36b57dd212"
      },
      "outputs": [
        {
          "name": "stdout",
          "output_type": "stream",
          "text": [
            "text:  b\"This was an absolutely terrible movie. Don't be lured in by Christopher Walken or Michael Ironside. Both are great actors, but this must simply be their worst role in history. Even their great acting could not redeem this movie's ridiculous storyline. This movie is an early nineties US propaganda piece. The most pathetic scenes were those when the Columbian rebels were making their cases for revolutions. Maria Conchita Alonso appeared phony, and her pseudo-love affair with Walken was nothing but a pathetic emotional plug in a movie that was devoid of any real meaning. I am disappointed that there are movies like this, ruining actor's like Christopher Walken's good name. I could barely sit through it.\"\n",
            "label:  0\n"
          ]
        }
      ],
      "source": [
        "for example, label in train_dataset.take(1):\n",
        "  print('text: ', example.numpy())\n",
        "  print('label: ', label.numpy())"
      ]
    },
    {
      "cell_type": "markdown",
      "metadata": {
        "id": "spD206NVZd4-"
      },
      "source": [
        "Berikutnya acak data untuk pelatihan dan membuat kumpulan pasangan (teks, label) ini:"
      ]
    },
    {
      "cell_type": "code",
      "execution_count": null,
      "metadata": {
        "colab": {
          "base_uri": "https://localhost:8080/"
        },
        "id": "iWl5iNn7Zjwi",
        "outputId": "c42455a6-7c10-420e-b469-0c1519ab0e0d"
      },
      "outputs": [
        {
          "name": "stdout",
          "output_type": "stream",
          "text": [
            "texts:  [b\"I have always like this great baseball movie! It has a good cast including two tremendous actors and two of My favorites Danny Glover and Christopher Lloyd! Also in this movie is Ben Johnson, Brenda Fricker, Big Tony Longo, Tony Danza, and Matthew McConaughey! Also Jay O. Sanders and Dermot Mulroney! The film has great special effects and acting from all of the film's actors! The baseball scenes are all realistic! The music by composer Randy Edelman is very good and it fits the film very well! Some of the actors who reminded Me the actual baseball personalities. Stoney Jackson's Ray Mitchell character reminded Me Royce Clayton, McConaughey's character reminded Me of Steve Finley, and Jay O. Sanders's commentator in My opinion resembled how Al Hrabosky looks today. This is a fantastic movie for non and Baseball fans and I strongly recommend this film!\"\n",
            " b'\"Toi le Venin\" is Robert Hossein\\'s masterpiece,and one of the great thrillers of the fifties.Based on a Frederic Dard novel,a writer the director often worked with (see also \"le Monte-Charge\" which Hossein did not direct but in which he was the lead too),the screenplay grabs you from the first pictures on a desert road by night where a beautiful blonde might be the fieriest of the criminals to the mysterious house where he finds his femme fatale ..and her sister.Then begins a cat and mouse play .One of the sisters is in a wheelchair .But is she really disabled?Which one is the criminal who tried to kill the hero on that night? <br /><br />The two actresses,Marina Vlady and the late Odile Versois were sisters.<br /><br />Turn off all the lights before watching.Highly suspenseful.'\n",
            " b'The first time I had the window of opportunity to see this all but forgotten classic was back in the early 1980\\'s,at one of our art houses as a revival. As I watched this fever dream of an exercise in 1930\\'s sexuality, I thought YOWZA! They got away with murder in Europe back in the day. Unfortunately, this film was heavily cut in it\\'s original U.S. release by the blue nosed Hayes Office (the staunch government censorship board,started by the \"holier than thou\" Bible thumper, Will Hayes...a former Post Office official,if you can believe that),due to it\\'s overall theme of human sexuality (Heaven\\'s forbid humans actually had sex in the 1930\\'s). The plot of Ecstasy concerns a young woman (played by Hedy Lamarr)who marries a much older man,and later regrets it. She (Lamarr)meets a handsome younger man & has an affair with him, resulting in a divorce from previous husband (another no no in Hollywood movies back then---Divorce!). Despite the fact that the film was produced in 1933, it was probably the director\\'s first time working in the sound format (i.e. the film seems to possess techniques that were used mostly in silent films---i.e. 1920\\'s expressionism\\'s). It\\'s still worth searching out for a window into early European talking pictures,along with Luis Bunuels L\\'Age Dor (1930),and Karl Gustav Dryer\\'s \\'Vampyre\\' (1931). Not rated,but contains that infamous nude swimming scene & some thinly veiled sexual references, which would fare little more than a PG-13 by today\\'s standards (but would have easily landed the dreaded \\'X\\',back in the 30\\'s,if it existed then)']\n",
            "\n",
            "labels:  [1 1 1]\n"
          ]
        }
      ],
      "source": [
        "BUFFER_SIZE = 10000\n",
        "BATCH_SIZE = 64\n",
        "\n",
        "train_dataset = train_dataset.shuffle(BUFFER_SIZE).batch(BATCH_SIZE).prefetch(tf.data.AUTOTUNE)\n",
        "test_dataset = test_dataset.batch(BATCH_SIZE).prefetch(tf.data.AUTOTUNE)\n",
        "\n",
        "for example, label in train_dataset.take(1):\n",
        "  print('texts: ', example.numpy()[:3])\n",
        "  print()\n",
        "  print('labels: ', label.numpy()[:3])\n"
      ]
    },
    {
      "cell_type": "markdown",
      "metadata": {
        "id": "h3wWVkoCZouF"
      },
      "source": [
        "### **Buat Teks Encoder**\n",
        "Teks mentah yang dimuat oleh tfds perlu diproses sebelum dapat digunakan dalam model. Cara termudah memproses teks untuk pelatihan adalah menggunakan lapisan TextVectorization. Lapisan ini memiliki banyak kemampuan, namun pada tutorial ini menggunakan perilaku default. Buat lapisan tersebut, dan teruskan teks kumpulan data ke metode .adapt lapisan:"
      ]
    },
    {
      "cell_type": "code",
      "execution_count": null,
      "metadata": {
        "id": "ihxpxiMxZuRb"
      },
      "outputs": [],
      "source": [
        "VOCAB_SIZE = 1000\n",
        "encoder = tf.keras.layers.TextVectorization(\n",
        "    max_tokens=VOCAB_SIZE)\n",
        "encoder.adapt(train_dataset.map(lambda text, label: text))"
      ]
    },
    {
      "cell_type": "markdown",
      "metadata": {
        "id": "CJA3LitOZyPc"
      },
      "source": [
        "Metode .adapt mengatur kosakata lapisan. 20 token pertama dapat dilihat dengan kode berikut. Setelah padding dan token yang tidak diketahui, mereka diurutkan berdasarkan frekuensi:"
      ]
    },
    {
      "cell_type": "code",
      "execution_count": null,
      "metadata": {
        "colab": {
          "base_uri": "https://localhost:8080/"
        },
        "id": "1wjfOSalZzx7",
        "outputId": "7378e9c9-55d3-49ad-9098-5f99336ddd7a"
      },
      "outputs": [
        {
          "data": {
            "text/plain": [
              "array(['', '[UNK]', 'the', 'and', 'a', 'of', 'to', 'is', 'in', 'it', 'i',\n",
              "       'this', 'that', 'br', 'was', 'as', 'for', 'with', 'movie', 'but'],\n",
              "      dtype='<U14')"
            ]
          },
          "execution_count": 8,
          "metadata": {},
          "output_type": "execute_result"
        }
      ],
      "source": [
        "vocab = np.array(encoder.get_vocabulary())\n",
        "vocab[:20]"
      ]
    },
    {
      "cell_type": "markdown",
      "metadata": {
        "id": "bl7MNmVrZ_QD"
      },
      "source": [
        "Setelah kosakata diatur, lapisan dapat mengkodekan teks ke dalam indeks. Tensor indeks diberi bantalan 0 ke urutan terpanjang dalam batch (kecuali jika Anda menetapkan output_sequence_length tetap):"
      ]
    },
    {
      "cell_type": "code",
      "execution_count": null,
      "metadata": {
        "colab": {
          "base_uri": "https://localhost:8080/"
        },
        "id": "00hV19QxaBKq",
        "outputId": "c177cb04-dcb1-4fe8-8adf-25fd0f9aad55"
      },
      "outputs": [
        {
          "data": {
            "text/plain": [
              "array([[ 10,  26, 203, ...,   0,   0,   0],\n",
              "       [  1,   1,   1, ...,   0,   0,   0],\n",
              "       [  2,  86,  62, ...,   0,   0,   0]])"
            ]
          },
          "execution_count": 9,
          "metadata": {},
          "output_type": "execute_result"
        }
      ],
      "source": [
        "encoded_example = encoder(example)[:3].numpy()\n",
        "encoded_example"
      ]
    },
    {
      "cell_type": "markdown",
      "metadata": {
        "id": "SDKuJ5T5aGis"
      },
      "source": [
        "Dengan pengaturan default, prosesnya tidak dapat dibalik sepenuhnya. Ada dua alasan utama untuk itu: <p>\n",
        "- Nilai default untuk argumen standarisasi preprocessing.TextVectorization adalah \"lower_and_strip_punctuation\".\n",
        "- Ukuran kosa kata yang terbatas dan kurangnya fallback berbasis karakter menghasilkan beberapa token yang tidak diketahui."
      ]
    },
    {
      "cell_type": "code",
      "execution_count": null,
      "metadata": {
        "colab": {
          "base_uri": "https://localhost:8080/"
        },
        "id": "QsV3jie5aKzu",
        "outputId": "f56e4358-af5f-4f18-c4e0-7aa82c0e5146"
      },
      "outputs": [
        {
          "name": "stdout",
          "output_type": "stream",
          "text": [
            "Original:  b\"I have always like this great baseball movie! It has a good cast including two tremendous actors and two of My favorites Danny Glover and Christopher Lloyd! Also in this movie is Ben Johnson, Brenda Fricker, Big Tony Longo, Tony Danza, and Matthew McConaughey! Also Jay O. Sanders and Dermot Mulroney! The film has great special effects and acting from all of the film's actors! The baseball scenes are all realistic! The music by composer Randy Edelman is very good and it fits the film very well! Some of the actors who reminded Me the actual baseball personalities. Stoney Jackson's Ray Mitchell character reminded Me Royce Clayton, McConaughey's character reminded Me of Steve Finley, and Jay O. Sanders's commentator in My opinion resembled how Al Hrabosky looks today. This is a fantastic movie for non and Baseball fans and I strongly recommend this film!\"\n",
            "Round-trip:  i have always like this great [UNK] movie it has a good cast including two [UNK] actors and two of my [UNK] [UNK] [UNK] and [UNK] [UNK] also in this movie is [UNK] [UNK] [UNK] [UNK] big [UNK] [UNK] [UNK] [UNK] and [UNK] [UNK] also [UNK] [UNK] [UNK] and [UNK] [UNK] the film has great special effects and acting from all of the films actors the [UNK] scenes are all realistic the music by [UNK] [UNK] [UNK] is very good and it [UNK] the film very well some of the actors who [UNK] me the actual [UNK] [UNK] [UNK] [UNK] [UNK] [UNK] character [UNK] me [UNK] [UNK] [UNK] character [UNK] me of [UNK] [UNK] and [UNK] [UNK] [UNK] [UNK] in my opinion [UNK] how [UNK] [UNK] looks today this is a fantastic movie for [UNK] and [UNK] fans and i [UNK] recommend this film                                                                                                                                                                                                                                                                                                                                                                                                                                                                                                                                                                                                                                                                                                                                            \n",
            "\n",
            "Original:  b'\"Toi le Venin\" is Robert Hossein\\'s masterpiece,and one of the great thrillers of the fifties.Based on a Frederic Dard novel,a writer the director often worked with (see also \"le Monte-Charge\" which Hossein did not direct but in which he was the lead too),the screenplay grabs you from the first pictures on a desert road by night where a beautiful blonde might be the fieriest of the criminals to the mysterious house where he finds his femme fatale ..and her sister.Then begins a cat and mouse play .One of the sisters is in a wheelchair .But is she really disabled?Which one is the criminal who tried to kill the hero on that night? <br /><br />The two actresses,Marina Vlady and the late Odile Versois were sisters.<br /><br />Turn off all the lights before watching.Highly suspenseful.'\n",
            "Round-trip:  [UNK] [UNK] [UNK] is robert [UNK] [UNK] one of the great [UNK] of the [UNK] on a [UNK] [UNK] [UNK] writer the director often worked with see also [UNK] [UNK] which [UNK] did not [UNK] but in which he was the lead [UNK] screenplay [UNK] you from the first [UNK] on a [UNK] [UNK] by night where a beautiful [UNK] might be the [UNK] of the [UNK] to the [UNK] house where he finds his [UNK] [UNK] and her [UNK] begins a [UNK] and [UNK] play one of the [UNK] is in a [UNK] but is she really [UNK] one is the [UNK] who tried to kill the hero on that night br br the two [UNK] [UNK] and the late [UNK] [UNK] were [UNK] br turn off all the [UNK] before [UNK] [UNK]                                                                                                                                                                                                                                                                                                                                                                                                                                                                                                                                                                                                                                                                                                                                                      \n",
            "\n",
            "Original:  b'The first time I had the window of opportunity to see this all but forgotten classic was back in the early 1980\\'s,at one of our art houses as a revival. As I watched this fever dream of an exercise in 1930\\'s sexuality, I thought YOWZA! They got away with murder in Europe back in the day. Unfortunately, this film was heavily cut in it\\'s original U.S. release by the blue nosed Hayes Office (the staunch government censorship board,started by the \"holier than thou\" Bible thumper, Will Hayes...a former Post Office official,if you can believe that),due to it\\'s overall theme of human sexuality (Heaven\\'s forbid humans actually had sex in the 1930\\'s). The plot of Ecstasy concerns a young woman (played by Hedy Lamarr)who marries a much older man,and later regrets it. She (Lamarr)meets a handsome younger man & has an affair with him, resulting in a divorce from previous husband (another no no in Hollywood movies back then---Divorce!). Despite the fact that the film was produced in 1933, it was probably the director\\'s first time working in the sound format (i.e. the film seems to possess techniques that were used mostly in silent films---i.e. 1920\\'s expressionism\\'s). It\\'s still worth searching out for a window into early European talking pictures,along with Luis Bunuels L\\'Age Dor (1930),and Karl Gustav Dryer\\'s \\'Vampyre\\' (1931). Not rated,but contains that infamous nude swimming scene & some thinly veiled sexual references, which would fare little more than a PG-13 by today\\'s standards (but would have easily landed the dreaded \\'X\\',back in the 30\\'s,if it existed then)'\n",
            "Round-trip:  the first time i had the [UNK] of [UNK] to see this all but [UNK] classic was back in the early [UNK] one of our art [UNK] as a [UNK] as i watched this [UNK] dream of an [UNK] in [UNK] [UNK] i thought [UNK] they got away with murder in [UNK] back in the day unfortunately this film was [UNK] cut in its original us release by the [UNK] [UNK] [UNK] [UNK] the [UNK] [UNK] [UNK] [UNK] by the [UNK] than [UNK] [UNK] [UNK] will [UNK] [UNK] [UNK] [UNK] [UNK] you can believe [UNK] to its overall theme of human [UNK] [UNK] [UNK] [UNK] actually had sex in the [UNK] the plot of [UNK] [UNK] a young woman played by [UNK] [UNK] [UNK] a much older [UNK] later [UNK] it she [UNK] a [UNK] [UNK] man has an [UNK] with him [UNK] in a [UNK] from previous husband another no no in hollywood movies back [UNK] despite the fact that the film was [UNK] in [UNK] it was probably the directors first time working in the sound [UNK] [UNK] the film seems to [UNK] [UNK] that were used mostly in [UNK] [UNK] [UNK] [UNK] its still worth [UNK] out for a [UNK] into early [UNK] talking [UNK] with [UNK] [UNK] [UNK] [UNK] [UNK] [UNK] [UNK] [UNK] [UNK] [UNK] not [UNK] [UNK] that [UNK] [UNK] [UNK] scene some [UNK] [UNK] sexual [UNK] which would [UNK] little more than a [UNK] by [UNK] [UNK] but would have easily [UNK] the [UNK] [UNK] in the [UNK] it [UNK] then                                                                                                                                                                                                                                                                                                                                                                                                                                                                                                                                                                                                                           \n",
            "\n"
          ]
        }
      ],
      "source": [
        "for n in range(3):\n",
        "  print(\"Original: \", example[n].numpy())\n",
        "  print(\"Round-trip: \", \" \".join(vocab[encoded_example[n]]))\n",
        "  print()"
      ]
    },
    {
      "cell_type": "markdown",
      "metadata": {
        "id": "2OKwGoOVaOL1"
      },
      "source": [
        "### **Buat Model**\n",
        "\n",
        "<img src = \"https://raw.githubusercontent.com/tensorflow/text/master/docs/tutorials/images/bidirectional.png\"><p>\n",
        "\n",
        "diagram model dapat dilihat pada gambar diatas\n",
        "\n",
        "1. Model ini dapat dibuat sebagai tf.keras.Sequential.\n",
        "2. Lapisan pertama adalah encoder, yang mengubah teks menjadi urutan indeks token.\n",
        "3. Setelah encoder adalah lapisan penyematan (embedding layer). Lapisan penyematan menyimpan satu vektor per kata. Saat dipanggil, ini mengubah rangkaian indeks kata menjadi rangkaian vektor. Vektor-vektor ini dapat dilatih. Setelah pelatihan (dengan data yang cukup), kata-kata dengan arti yang mirip sering kali memiliki vektor yang serupa. Pencarian indeks ini jauh lebih efisien daripada operasi setara dengan meneruskan vektor yang disandikan one-hot melalui lapisan tf.keras.layers.Dense.\n",
        "4. Jaringan saraf berulang (RNN) memproses masukan urutan dengan melakukan iterasi melalui elemen. RNN meneruskan keluaran dari satu langkah waktu ke masukannya pada langkah waktu berikutnya.\n",
        "Pembungkus tf.keras.layers.Bidirection juga dapat digunakan dengan lapisan RNN. Ini menyebarkan masukan maju dan mundur melalui lapisan RNN dan kemudian menggabungkan keluaran akhir.\n",
        "- Keuntungan utama RNN dua arah adalah sinyal dari awal masukan tidak perlu diproses sepanjang waktu untuk memengaruhi keluaran.\n",
        "- Kerugian utama dari RNN dua arah adalah Anda tidak dapat melakukan streaming prediksi secara efisien saat kata-kata ditambahkan di akhir.\n",
        "5. Setelah RNN mengonversi urutan menjadi satu vektor, kedua lapisan tersebut.Dense melakukan beberapa pemrosesan akhir, dan mengonversi representasi vektor ini menjadi logit tunggal sebagai keluaran klasifikasi.\n",
        "\n",
        "Kode nya adalah sebagai berikut :"
      ]
    },
    {
      "cell_type": "code",
      "execution_count": null,
      "metadata": {
        "id": "r3dc5GRqbWfG"
      },
      "outputs": [],
      "source": [
        "model = tf.keras.Sequential([\n",
        "    encoder,\n",
        "    tf.keras.layers.Embedding(\n",
        "        input_dim=len(encoder.get_vocabulary()),\n",
        "        output_dim=64,\n",
        "        # Use masking to handle the variable sequence lengths\n",
        "        mask_zero=True),\n",
        "    tf.keras.layers.Bidirectional(tf.keras.layers.LSTM(64)),\n",
        "    tf.keras.layers.Dense(64, activation='relu'),\n",
        "    tf.keras.layers.Dense(1)\n",
        "])"
      ]
    },
    {
      "cell_type": "markdown",
      "metadata": {
        "id": "Ad80BtMNba_g"
      },
      "source": [
        "Harap dicatat bahwa model sekuensial Keras digunakan di sini karena semua lapisan dalam model hanya memiliki masukan tunggal dan menghasilkan keluaran tunggal. Jika Anda ingin menggunakan lapisan RNN stateful, Anda mungkin ingin membangun model Anda dengan API fungsional Keras atau subkelas model sehingga Anda dapat mengambil dan menggunakan kembali status lapisan RNN. Untuk detailnya bisa dilihat pada Keras RNN guide <p>\n",
        "Lapisan penyematan menggunakan masking (uses masking ) untuk menangani panjang urutan yang bervariasi. Semua lapisan setelah penyematan dukungan penyematan"
      ]
    },
    {
      "cell_type": "code",
      "execution_count": null,
      "metadata": {
        "colab": {
          "base_uri": "https://localhost:8080/"
        },
        "id": "9Q7X-2opbd8U",
        "outputId": "279167d1-a8b5-47e4-face-94c97f2007ce"
      },
      "outputs": [
        {
          "name": "stdout",
          "output_type": "stream",
          "text": [
            "[False, True, True, True, True]\n"
          ]
        }
      ],
      "source": [
        "print([layer.supports_masking for layer in model.layers])"
      ]
    },
    {
      "cell_type": "markdown",
      "metadata": {
        "id": "etVSnxTjbqMb"
      },
      "source": [
        "Untuk memastikan bahwa ini berfungsi seperti yang diharapkan, evaluasi sebuah kalimat dua kali. Pertama, satu kalimat sehingga tidak ada bantalan (padding) untuk disamarkan:"
      ]
    },
    {
      "cell_type": "code",
      "execution_count": null,
      "metadata": {
        "colab": {
          "base_uri": "https://localhost:8080/"
        },
        "id": "VFYkqhlHbsEE",
        "outputId": "e264061c-225c-4190-e937-bfc655d28e79"
      },
      "outputs": [
        {
          "name": "stdout",
          "output_type": "stream",
          "text": [
            "1/1 [==============================] - 3s 3s/step\n",
            "[-0.01228585]\n"
          ]
        }
      ],
      "source": [
        "# predict on a sample text without padding.\n",
        "\n",
        "sample_text = ('The movie was cool. The animation and the graphics '\n",
        "               'were out of this world. I would recommend this movie.')\n",
        "predictions = model.predict(np.array([sample_text]))\n",
        "print(predictions[0])"
      ]
    },
    {
      "cell_type": "markdown",
      "metadata": {
        "id": "kht5ferAbv_A"
      },
      "source": [
        "Sekarang, evaluasi lagi dalam batch dengan kalimat yang lebih panjang. Hasilnya harus sama:"
      ]
    },
    {
      "cell_type": "code",
      "execution_count": null,
      "metadata": {
        "colab": {
          "base_uri": "https://localhost:8080/"
        },
        "id": "G4iRYVCZbxj4",
        "outputId": "0750eead-1b6f-45d3-a00c-aca19b34dffc"
      },
      "outputs": [
        {
          "name": "stdout",
          "output_type": "stream",
          "text": [
            "1/1 [==============================] - 0s 358ms/step\n",
            "[-0.01228585]\n"
          ]
        }
      ],
      "source": [
        "# predict on a sample text with padding\n",
        "\n",
        "padding = \"the \" * 2000\n",
        "predictions = model.predict(np.array([sample_text, padding]))\n",
        "print(predictions[0])"
      ]
    },
    {
      "cell_type": "markdown",
      "metadata": {
        "id": "vxOiPdHFb0xA"
      },
      "source": [
        "compile model Keras untuk mengonfigurasi proses pelatihan:"
      ]
    },
    {
      "cell_type": "code",
      "execution_count": null,
      "metadata": {
        "id": "MrpNXd9-b2aZ"
      },
      "outputs": [],
      "source": [
        "model.compile(loss=tf.keras.losses.BinaryCrossentropy(from_logits=True),\n",
        "              optimizer=tf.keras.optimizers.Adam(1e-4),\n",
        "              metrics=['accuracy'])"
      ]
    },
    {
      "cell_type": "markdown",
      "metadata": {
        "id": "r32QUWpJb4q2"
      },
      "source": [
        "### **Train Mode**"
      ]
    },
    {
      "cell_type": "code",
      "execution_count": null,
      "metadata": {
        "colab": {
          "base_uri": "https://localhost:8080/"
        },
        "id": "3Gc0rHELb7PR",
        "outputId": "e510862e-dec5-49cf-dfc5-b277f5e64234"
      },
      "outputs": [
        {
          "name": "stdout",
          "output_type": "stream",
          "text": [
            "Epoch 1/10\n",
            "391/391 [==============================] - 732s 2s/step - loss: 0.6344 - accuracy: 0.5780 - val_loss: 0.4893 - val_accuracy: 0.7349\n",
            "Epoch 2/10\n",
            "391/391 [==============================] - 720s 2s/step - loss: 0.4043 - accuracy: 0.8120 - val_loss: 0.3670 - val_accuracy: 0.8333\n",
            "Epoch 3/10\n",
            "391/391 [==============================] - 706s 2s/step - loss: 0.3408 - accuracy: 0.8489 - val_loss: 0.3398 - val_accuracy: 0.8536\n",
            "Epoch 4/10\n",
            "391/391 [==============================] - 707s 2s/step - loss: 0.3196 - accuracy: 0.8608 - val_loss: 0.3345 - val_accuracy: 0.8536\n",
            "Epoch 5/10\n",
            "391/391 [==============================] - 719s 2s/step - loss: 0.3153 - accuracy: 0.8634 - val_loss: 0.3544 - val_accuracy: 0.8557\n",
            "Epoch 6/10\n",
            "391/391 [==============================] - 715s 2s/step - loss: 0.3079 - accuracy: 0.8668 - val_loss: 0.3277 - val_accuracy: 0.8589\n",
            "Epoch 7/10\n",
            "391/391 [==============================] - 702s 2s/step - loss: 0.3031 - accuracy: 0.8698 - val_loss: 0.3215 - val_accuracy: 0.8609\n",
            "Epoch 8/10\n",
            "391/391 [==============================] - 706s 2s/step - loss: 0.3059 - accuracy: 0.8678 - val_loss: 0.3228 - val_accuracy: 0.8630\n",
            "Epoch 9/10\n",
            "391/391 [==============================] - 701s 2s/step - loss: 0.2987 - accuracy: 0.8710 - val_loss: 0.3215 - val_accuracy: 0.8495\n",
            "Epoch 10/10\n",
            "391/391 [==============================] - 710s 2s/step - loss: 0.2966 - accuracy: 0.8724 - val_loss: 0.3223 - val_accuracy: 0.8589\n"
          ]
        }
      ],
      "source": [
        "history = model.fit(train_dataset, epochs=10, validation_data=test_dataset, validation_steps=30)"
      ]
    },
    {
      "cell_type": "code",
      "execution_count": null,
      "metadata": {
        "colab": {
          "base_uri": "https://localhost:8080/"
        },
        "id": "bCvpugENecQ0",
        "outputId": "0f0d5654-0be4-4010-b55f-d3f85d795598"
      },
      "outputs": [
        {
          "name": "stdout",
          "output_type": "stream",
          "text": [
            "391/391 [==============================] - 167s 427ms/step - loss: 0.3191 - accuracy: 0.8602\n",
            "Test Loss: 0.3191372752189636\n",
            "Test Accuracy: 0.8601999878883362\n"
          ]
        }
      ],
      "source": [
        "test_loss, test_acc = model.evaluate(test_dataset)\n",
        "\n",
        "print('Test Loss:', test_loss)\n",
        "print('Test Accuracy:', test_acc)"
      ]
    },
    {
      "cell_type": "code",
      "execution_count": null,
      "metadata": {
        "colab": {
          "base_uri": "https://localhost:8080/",
          "height": 679
        },
        "id": "IqHTv_rF0tEZ",
        "outputId": "2209ca36-b120-4811-a9d6-0ec1cbfb0f03"
      },
      "outputs": [
        {
          "data": {
            "text/plain": [
              "(0.0, 0.65134137570858)"
            ]
          },
          "execution_count": 18,
          "metadata": {},
          "output_type": "execute_result"
        },
        {
          "data": {
            "image/png": "[encoded data removed]",
            "text/plain": [
              "<Figure size 1600x800 with 2 Axes>"
            ]
          },
          "metadata": {},
          "output_type": "display_data"
        }
      ],
      "source": [
        "plt.figure(figsize=(16, 8))\n",
        "plt.subplot(1, 2, 1)\n",
        "plot_graphs(history, 'accuracy')\n",
        "plt.ylim(None, 1)\n",
        "plt.subplot(1, 2, 2)\n",
        "plot_graphs(history, 'loss')\n",
        "plt.ylim(0, None)"
      ]
    },
    {
      "cell_type": "markdown",
      "metadata": {
        "id": "D15DUX2O0oFT"
      },
      "source": [
        "Jalankan prediksi pada kalimat baru:<p>\n",
        "Jika prediksi >= 0,0 berarti positif, jika tidak maka negatif."
      ]
    },
    {
      "cell_type": "code",
      "execution_count": null,
      "metadata": {
        "colab": {
          "base_uri": "https://localhost:8080/"
        },
        "id": "RqVwsnMD1WhC",
        "outputId": "d6c3a691-1794-4651-c371-b595a7630fe6"
      },
      "outputs": [
        {
          "name": "stdout",
          "output_type": "stream",
          "text": [
            "1/1 [==============================] - 4s 4s/step\n",
            "[0.8032423]\n"
          ]
        }
      ],
      "source": [
        "\n",
        "sample_text = ('The movie was cool. The animation and the graphics '\n",
        "                'were out of this world. I would recommend this movie.')\n",
        "predictions = model.predict(np.array([sample_text]))\n",
        "print(predictions[0])"
      ]
    },
    {
      "cell_type": "markdown",
      "metadata": {
        "id": "kZ5eTzzI1eA0"
      },
      "source": [
        "### **Stack two or more LSTM layers**\n",
        "Lapisan berulang Keras memiliki dua mode yang tersedia yang dikontrol oleh argumen konstruktor return_sequences :<p>\n",
        "- Jika False, ia hanya mengembalikan keluaran terakhir untuk setiap urutan masukan (bentuk tensor 2D (batch_size, output_features)). Ini adalah default yang digunakan pada model sebelumnya.\n",
        "- Jika True, Sequence lengkap output berturut-turut untuk setiap langkah waktu dikembalikan (bentuk tensor 3D (ukuran_batch, langkah waktu, fitur_output)).\n",
        "\n",
        "Berikut adalah alur informasi dengan return_sequences=True:\n",
        "\n",
        "<img src = \"https://www.tensorflow.org/static/text/tutorials/images/layered_bidirectional.png\"><p>"
      ]
    },
    {
      "cell_type": "markdown",
      "metadata": {
        "id": "Q5qb7idC1wII"
      },
      "source": [
        "Hal yang menarik dari penggunaan RNN dengan return_sequences=True adalah outputnya masih memiliki 3 axis, sama seperti inputnya, sehingga bisa diteruskan ke layer RNN lain, seperti ini:"
      ]
    },
    {
      "cell_type": "code",
      "execution_count": null,
      "metadata": {
        "id": "DGe91DpH1xrD"
      },
      "outputs": [],
      "source": [
        "\n",
        "model = tf.keras.Sequential([\n",
        "    encoder,\n",
        "    tf.keras.layers.Embedding(len(encoder.get_vocabulary()), 64, mask_zero=True),\n",
        "    tf.keras.layers.Bidirectional(tf.keras.layers.LSTM(64, return_sequences=True)),\n",
        "    tf.keras.layers.Bidirectional(tf.keras.layers.LSTM(32)),\n",
        "    tf.keras.layers.Dense(64, activation='relu'),\n",
        "    tf.keras.layers.Dropout(0.5),\n",
        "    tf.keras.layers.Dense(1)\n",
        "])"
      ]
    },
    {
      "cell_type": "code",
      "execution_count": null,
      "metadata": {
        "id": "6DcEBZzl19sE"
      },
      "outputs": [],
      "source": [
        "\n",
        "model.compile(loss=tf.keras.losses.BinaryCrossentropy(from_logits=True),\n",
        "              optimizer=tf.keras.optimizers.Adam(1e-4),\n",
        "              metrics=['accuracy'])"
      ]
    },
    {
      "cell_type": "code",
      "execution_count": null,
      "metadata": {
        "colab": {
          "base_uri": "https://localhost:8080/"
        },
        "id": "PmDD1vG62IZv",
        "outputId": "b9c59f43-6590-41b5-874e-b534c6be79e0"
      },
      "outputs": [
        {
          "name": "stdout",
          "output_type": "stream",
          "text": [
            "Epoch 1/10\n",
            "391/391 [==============================] - 1438s 4s/step - loss: 0.6206 - accuracy: 0.6092 - val_loss: 0.4396 - val_accuracy: 0.8141\n",
            "Epoch 2/10\n",
            "391/391 [==============================] - 1383s 4s/step - loss: 0.3975 - accuracy: 0.8283 - val_loss: 0.3520 - val_accuracy: 0.8411\n",
            "Epoch 3/10\n",
            "391/391 [==============================] - 1388s 4s/step - loss: 0.3392 - accuracy: 0.8552 - val_loss: 0.3315 - val_accuracy: 0.8531\n",
            "Epoch 4/10\n",
            "391/391 [==============================] - 1386s 4s/step - loss: 0.3253 - accuracy: 0.8625 - val_loss: 0.3287 - val_accuracy: 0.8630\n",
            "Epoch 5/10\n",
            "391/391 [==============================] - 1406s 4s/step - loss: 0.3148 - accuracy: 0.8655 - val_loss: 0.3384 - val_accuracy: 0.8500\n",
            "Epoch 6/10\n",
            "391/391 [==============================] - 1374s 4s/step - loss: 0.3101 - accuracy: 0.8670 - val_loss: 0.3424 - val_accuracy: 0.8552\n",
            "Epoch 7/10\n",
            "391/391 [==============================] - 1393s 4s/step - loss: 0.3063 - accuracy: 0.8673 - val_loss: 0.3197 - val_accuracy: 0.8630\n",
            "Epoch 8/10\n",
            "391/391 [==============================] - 1398s 4s/step - loss: 0.3007 - accuracy: 0.8708 - val_loss: 0.3230 - val_accuracy: 0.8651\n",
            "Epoch 9/10\n",
            "391/391 [==============================] - 1427s 4s/step - loss: 0.3000 - accuracy: 0.8713 - val_loss: 0.3233 - val_accuracy: 0.8661\n",
            "Epoch 10/10\n",
            "391/391 [==============================] - 1401s 4s/step - loss: 0.2985 - accuracy: 0.8703 - val_loss: 0.3162 - val_accuracy: 0.8562\n"
          ]
        }
      ],
      "source": [
        "\n",
        "history = model.fit(train_dataset, epochs=10,\n",
        "                    validation_data=test_dataset,\n",
        "                    validation_steps=30)"
      ]
    },
    {
      "cell_type": "code",
      "execution_count": null,
      "metadata": {
        "colab": {
          "base_uri": "https://localhost:8080/"
        },
        "id": "U9oSdoALNmAC",
        "outputId": "e6f6a51e-4983-46e0-b671-2467d3818fb2"
      },
      "outputs": [
        {
          "name": "stdout",
          "output_type": "stream",
          "text": [
            "391/391 [==============================] - 298s 762ms/step - loss: 0.3181 - accuracy: 0.8568\n",
            "Test Loss: 0.31807366013526917\n",
            "Test Accuracy: 0.8568400144577026\n"
          ]
        }
      ],
      "source": [
        "test_loss, test_acc = model.evaluate(test_dataset)\n",
        "\n",
        "print('Test Loss:', test_loss)\n",
        "print('Test Accuracy:', test_acc)"
      ]
    },
    {
      "cell_type": "code",
      "execution_count": null,
      "metadata": {
        "colab": {
          "base_uri": "https://localhost:8080/"
        },
        "id": "GkSSZTMMNwF3",
        "outputId": "86d4a2a2-890f-4b44-af9c-10cba59e3fab"
      },
      "outputs": [
        {
          "name": "stdout",
          "output_type": "stream",
          "text": [
            "1/1 [==============================] - 9s 9s/step\n",
            "[[-1.539177]]\n"
          ]
        }
      ],
      "source": [
        "\n",
        "# predict on a sample text without padding.\n",
        "\n",
        "sample_text = ('The movie was not good. The animation and the graphics '\n",
        "                'were terrible. I would not recommend this movie.')\n",
        "predictions = model.predict(np.array([sample_text]))\n",
        "print(predictions)"
      ]
    },
    {
      "cell_type": "code",
      "execution_count": null,
      "metadata": {
        "colab": {
          "base_uri": "https://localhost:8080/",
          "height": 512
        },
        "id": "m9O_wC_8Ny7G",
        "outputId": "2182fc5d-1697-4e56-8274-0d2040872335"
      },
      "outputs": [
        {
          "data": {
            "image/png": "[encoded data removed]",
            "text/plain": [
              "<Figure size 1600x600 with 2 Axes>"
            ]
          },
          "metadata": {},
          "output_type": "display_data"
        }
      ],
      "source": [
        "plt.figure(figsize=(16, 6))\n",
        "plt.subplot(1, 2, 1)\n",
        "plot_graphs(history, 'accuracy')\n",
        "plt.subplot(1, 2, 2)\n",
        "plot_graphs(history, 'loss')"
      ]
    },
    {
      "cell_type": "markdown",
      "metadata": {
        "id": "pA1JZimYf9j8"
      },
      "source": [
        "----\n",
        "\n",
        "### **Praktikum 2**\n",
        "Generator Teks dengan RNN<p>\n",
        "\n",
        "Praktikum ini mendemonstrasikan cara melakukan genearsi text menggunakan RNN. Dataset yang digunkan adalah dataset Shakespeare's writing from Andrej Karpathy's The Unreasonable Effectiveness of Recurrent Neural Networks. Jika diberikan urutan karakter dari data ini (\"Shakespear\"), latih model untuk memprediksi karakter berikutnya dalam urutan (\"e\"). Urutan teks yang lebih panjang dapat dihasilkan dengan memanggil model berulang kali.<p>\n",
        "Note: Enable GPU acceleration to execute this notebook faster. In Colab: Runtime > Change runtime type > Hardware accelerator > GPU.<p>\n",
        "Tutorial ini menggunakan tf.keras dan eager execution. Berikut adalah contoh output ketika model dalam tutorial ini dilatih selama 30 epoch, dan dimulai dengan prompt \"Q\":\n",
        "\n",
        "```dart\n",
        "QUEENE:\n",
        "I had thought thou hadst a Roman; for the oracle,\n",
        "Thus by All bids the man against the word,\n",
        "Which are so weak of care, by old care done;\n",
        "Your children were in your holy love,\n",
        "And the precipitation through the bleeding throne.\n",
        "\n",
        "BISHOP OF ELY:\n",
        "Marry, and will, my lord, to weep in such a one were prettiest;\n",
        "Yet now I was adopted heir\n",
        "Of the world's lamentable day,\n",
        "To watch the next way with his father with his face?\n",
        "\n",
        "ESCALUS:\n",
        "The cause why then we are all resolved more sons.\n",
        "\n",
        "VOLUMNIA:\n",
        "O, no, no, no, no, no, no, no, no, no, no, no, no, no, no, no, no, no, no, no, no, it is no sin it should be dead,\n",
        "And love and pale as any will to that word.\n",
        "\n",
        "QUEEN ELIZABETH:\n",
        "But how long have I heard the soul for this world,\n",
        "And show his hands of life be proved to stand.\n",
        "\n",
        "PETRUCHIO:\n",
        "I say he look'd on, if I must be content\n",
        "To stay him from the fatal of our country's bliss.\n",
        "His lordship pluck'd from this sentence then for prey,\n",
        "And then let us twain, being the moon,\n",
        "were she such a case as fills m\n",
        "```\n",
        "\n",
        "Meskipun beberapa kalimat memiliki tata bahasa, sebagian besar tidak masuk akal. Model belum mempelajari arti kata-kata, namun anggap saja:\n",
        "\n",
        "### **Setup**\n",
        "**Import TensorFlow**"
      ]
    },
    {
      "cell_type": "code",
      "execution_count": null,
      "metadata": {
        "id": "bwOVruvCgThx"
      },
      "outputs": [],
      "source": [
        "import tensorflow as tf\n",
        "import numpy as np\n",
        "import os\n",
        "import time"
      ]
    },
    {
      "cell_type": "markdown",
      "metadata": {
        "id": "RILtKxGBg-Xp"
      },
      "source": [
        "### **Download Dataset Shakespeare**\n",
        "Sesuaikan dengan lokasi data yang Anda punya."
      ]
    },
    {
      "cell_type": "code",
      "execution_count": null,
      "metadata": {
        "colab": {
          "base_uri": "https://localhost:8080/"
        },
        "id": "r2WGOa9lf9Ai",
        "outputId": "7dda2f5f-d790-40ff-d7de-b35119776d3c"
      },
      "outputs": [
        {
          "name": "stdout",
          "output_type": "stream",
          "text": [
            "Downloading data from https://storage.googleapis.com/download.tensorflow.org/data/shakespeare.txt\n",
            "1115394/1115394 [==============================] - 1s 1us/step\n"
          ]
        }
      ],
      "source": [
        "path_to_file = tf.keras.utils.get_file('shakespeare.txt', 'https://storage.googleapis.com/download.tensorflow.org/data/shakespeare.txt')"
      ]
    },
    {
      "cell_type": "markdown",
      "metadata": {
        "id": "6XRLUvr9h_vl"
      },
      "source": [
        "## **Load Data**"
      ]
    },
    {
      "cell_type": "code",
      "execution_count": null,
      "metadata": {
        "colab": {
          "base_uri": "https://localhost:8080/"
        },
        "id": "QENtAhfPh6zE",
        "outputId": "f563fa11-92fd-4e65-c9ef-979ac3b6fc95"
      },
      "outputs": [
        {
          "name": "stdout",
          "output_type": "stream",
          "text": [
            "Length of text: 1115394 characters\n"
          ]
        }
      ],
      "source": [
        "# Read, then decode for py2 compat.\n",
        "text = open(path_to_file, 'rb').read().decode(encoding='utf-8')\n",
        "# length of text is the number of characters in it\n",
        "print(f'Length of text: {len(text)} characters')"
      ]
    },
    {
      "cell_type": "code",
      "execution_count": null,
      "metadata": {
        "colab": {
          "base_uri": "https://localhost:8080/"
        },
        "id": "swUB9fIoifKV",
        "outputId": "de0a0705-7ef8-45fd-cc55-657f416eda3a"
      },
      "outputs": [
        {
          "name": "stdout",
          "output_type": "stream",
          "text": [
            "First Citizen:\n",
            "Before we proceed any further, hear me speak.\n",
            "\n",
            "All:\n",
            "Speak, speak.\n",
            "\n",
            "First Citizen:\n",
            "You are all resolved rather to die than to famish?\n",
            "\n",
            "All:\n",
            "Resolved. resolved.\n",
            "\n",
            "First Citizen:\n",
            "First, you know Caius Marcius is chief enemy to the people.\n",
            "\n"
          ]
        }
      ],
      "source": [
        "# Take a look at the first 250 characters in text\n",
        "print(text[:250])"
      ]
    },
    {
      "cell_type": "code",
      "execution_count": null,
      "metadata": {
        "colab": {
          "base_uri": "https://localhost:8080/"
        },
        "id": "8yoNMW_Wig2N",
        "outputId": "2a7d1648-adc9-4a4b-85b5-8edd5546d2b2"
      },
      "outputs": [
        {
          "name": "stdout",
          "output_type": "stream",
          "text": [
            "65 unique characters\n"
          ]
        }
      ],
      "source": [
        "# The unique characters in the file\n",
        "vocab = sorted(set(text))\n",
        "print(f'{len(vocab)} unique characters')"
      ]
    },
    {
      "cell_type": "markdown",
      "metadata": {
        "id": "CaFqTSKYijiE"
      },
      "source": [
        "### **Olah Teks**\n",
        "**Vectorize Teks**<p>\n",
        "Sebelum training, Anda perlu mengonversi string menjadi representasi numerik. tf.keras.layers.StringLookup dapat mengubah setiap karakter menjadi ID numerik. Caranya adalah teks akan dipecah menjadi token terlebih dahulu."
      ]
    },
    {
      "cell_type": "code",
      "execution_count": null,
      "metadata": {
        "colab": {
          "base_uri": "https://localhost:8080/"
        },
        "id": "5CSEN__VipRx",
        "outputId": "efefea85-c32e-4c11-8e07-28e53426ce8c"
      },
      "outputs": [
        {
          "data": {
            "text/plain": [
              "<tf.RaggedTensor [[b'a', b'b', b'c', b'd', b'e', b'f', b'g'], [b'x', b'y', b'z']]>"
            ]
          },
          "execution_count": 7,
          "metadata": {},
          "output_type": "execute_result"
        }
      ],
      "source": [
        "\n",
        "example_texts = ['abcdefg', 'xyz']\n",
        "chars = tf.strings.unicode_split(example_texts, input_encoding='UTF-8')\n",
        "chars"
      ]
    },
    {
      "cell_type": "markdown",
      "metadata": {
        "id": "Q_NFFrXUiwCQ"
      },
      "source": [
        "sekarang buat tf.keras.layers.StringLookup layer:"
      ]
    },
    {
      "cell_type": "code",
      "execution_count": null,
      "metadata": {
        "id": "QK4KfkIJix89"
      },
      "outputs": [],
      "source": [
        "ids_from_chars = tf.keras.layers.StringLookup(vocabulary=list(vocab), mask_token=None)"
      ]
    },
    {
      "cell_type": "markdown",
      "metadata": {
        "id": "bLGprga3i5A_"
      },
      "source": [
        "perintah diatas mengconvert token menjadi id"
      ]
    },
    {
      "cell_type": "code",
      "execution_count": null,
      "metadata": {
        "colab": {
          "base_uri": "https://localhost:8080/"
        },
        "id": "4PMNcmuIi6jX",
        "outputId": "4872c4ee-911e-4828-b99a-9057ccc7dbd7"
      },
      "outputs": [
        {
          "data": {
            "text/plain": [
              "<tf.RaggedTensor [[40, 41, 42, 43, 44, 45, 46], [63, 64, 65]]>"
            ]
          },
          "execution_count": 9,
          "metadata": {},
          "output_type": "execute_result"
        }
      ],
      "source": [
        "\n",
        "ids = ids_from_chars(chars)\n",
        "ids\n"
      ]
    },
    {
      "cell_type": "markdown",
      "metadata": {
        "id": "a1L3KY6QjL6M"
      },
      "source": [
        "Karena tujuan tutorial ini adalah untuk menghasilkan teks, penting juga untuk membalikkan representasi ini. Untuk ini Anda dapat menggunakan kode tf.keras.layers.StringLookup(..., invert=True).<p>\n",
        "Catatan: pada kode ini, daripada meneruskan kosakata asli yang dihasilkan dengan diurutkan(set(teks)) gunakan metode get_vocabulary() dari tf.keras.layers.StringLookup sehingga token [UNK] disetel dengan cara yang sama."
      ]
    },
    {
      "cell_type": "code",
      "execution_count": null,
      "metadata": {
        "id": "5ABrIHtJjOfA"
      },
      "outputs": [],
      "source": [
        "chars_from_ids = tf.keras.layers.StringLookup(\n",
        "    vocabulary=ids_from_chars.get_vocabulary(), invert=True, mask_token=None)"
      ]
    },
    {
      "cell_type": "markdown",
      "metadata": {
        "id": "8ef8vM5LjR1H"
      },
      "source": [
        "Lapisan ini mengconvert kembali karakter dari vektor ID, dan mengembalikannya sebagai karakter tf.RaggedTensor:"
      ]
    },
    {
      "cell_type": "code",
      "execution_count": null,
      "metadata": {
        "colab": {
          "base_uri": "https://localhost:8080/"
        },
        "id": "WZtOgc_GjTbc",
        "outputId": "983e8897-dbec-4e90-e8e4-8d53a3c04dad"
      },
      "outputs": [
        {
          "data": {
            "text/plain": [
              "<tf.RaggedTensor [[b'a', b'b', b'c', b'd', b'e', b'f', b'g'], [b'x', b'y', b'z']]>"
            ]
          },
          "execution_count": 11,
          "metadata": {},
          "output_type": "execute_result"
        }
      ],
      "source": [
        "chars = chars_from_ids(ids)\n",
        "chars"
      ]
    },
    {
      "cell_type": "markdown",
      "metadata": {
        "id": "3NEDIKFJjW8m"
      },
      "source": [
        "Anda dapat menggunakan tf.strings.reduce_join untuk menggabungkan kembali karakter menjadi string."
      ]
    },
    {
      "cell_type": "code",
      "execution_count": null,
      "metadata": {
        "colab": {
          "base_uri": "https://localhost:8080/"
        },
        "id": "L2UXMiiwjixN",
        "outputId": "95551b32-1fa6-4cd4-9829-6ef3324104a8"
      },
      "outputs": [
        {
          "data": {
            "text/plain": [
              "array([b'abcdefg', b'xyz'], dtype=object)"
            ]
          },
          "execution_count": 12,
          "metadata": {},
          "output_type": "execute_result"
        }
      ],
      "source": [
        "tf.strings.reduce_join(chars, axis=-1).numpy()"
      ]
    },
    {
      "cell_type": "code",
      "execution_count": null,
      "metadata": {
        "id": "g6g_GjuZkA7E"
      },
      "outputs": [],
      "source": [
        "\n",
        "def text_from_ids(ids):\n",
        "    return tf.strings.reduce_join(chars_from_ids(ids), axis=-1)"
      ]
    },
    {
      "cell_type": "markdown",
      "metadata": {
        "id": "DMI6B0mHjhTv"
      },
      "source": [
        "### **Prediksi**\n",
        "\n",
        "Diberikan sebuah karakter, atau serangkaian karakter, karakter apa yang paling mungkin berikutnya? Ini adalah tugas yang harus Anda latih agar model dapat melakukannya. Masukan ke model akan berupa urutan karakter, dan Anda melatih model untuk memprediksi keluaran berupa karakter berikut pada setiap langkah waktu. Karena RNN mempertahankan keadaan internal yang bergantung pada elemen yang terlihat sebelumnya, mengingat semua karakter dihitung hingga saat ini, karakter apa selanjutnya?\n",
        "\n",
        "**Membuat Trianing Set dan Target**<p>\n",
        "Selanjutnya bagilah teks menjadi contoh sequence. Setiap masukan sequence akan berisi karakter seq_length dari teks. Untuk setiap masukan sequence, target prediksi berisi teks dengan panjang yang sama, hanya digeser satu karakter ke kanan. Jadi, bagi teks menjadi beberapa bagian seq_length+1. Misalnya, seq_length adalah 4 dan teks kita adalah \"Hello\". Urutan masukannya adalah \"Hell\", dan urutan targetnya adalah \"ello\". Untuk melakukan ini, pertama-tama gunakan fungsi tf.data.Dataset.from_tensor_slices untuk mengonversi vektor teks menjadi aliran indeks karakter."
      ]
    },
    {
      "cell_type": "code",
      "execution_count": null,
      "metadata": {
        "colab": {
          "base_uri": "https://localhost:8080/"
        },
        "id": "DlBiH_1VkYjV",
        "outputId": "856d5ba1-9cb6-4d99-b16d-52fccc2d3ef7"
      },
      "outputs": [
        {
          "data": {
            "text/plain": [
              "<tf.Tensor: shape=(1115394,), dtype=int64, numpy=array([19, 48, 57, ..., 46,  9,  1])>"
            ]
          },
          "execution_count": 14,
          "metadata": {},
          "output_type": "execute_result"
        }
      ],
      "source": [
        "\n",
        "all_ids = ids_from_chars(tf.strings.unicode_split(text, 'UTF-8'))\n",
        "all_ids"
      ]
    },
    {
      "cell_type": "code",
      "execution_count": null,
      "metadata": {
        "id": "bEe_fgwnkdU_"
      },
      "outputs": [],
      "source": [
        "\n",
        "ids_dataset = tf.data.Dataset.from_tensor_slices(all_ids)"
      ]
    },
    {
      "cell_type": "code",
      "execution_count": null,
      "metadata": {
        "colab": {
          "base_uri": "https://localhost:8080/"
        },
        "id": "Ww9qQpVdkgcs",
        "outputId": "5a6cf8ea-5c2a-47ba-af4d-0e8fc11ed26e"
      },
      "outputs": [
        {
          "name": "stdout",
          "output_type": "stream",
          "text": [
            "F\n",
            "i\n",
            "r\n",
            "s\n",
            "t\n",
            " \n",
            "C\n",
            "i\n",
            "t\n",
            "i\n"
          ]
        }
      ],
      "source": [
        "\n",
        "for ids in ids_dataset.take(10):\n",
        "    print(chars_from_ids(ids).numpy().decode('utf-8'))"
      ]
    },
    {
      "cell_type": "code",
      "execution_count": null,
      "metadata": {
        "id": "EZ35IfiEkiix"
      },
      "outputs": [],
      "source": [
        "\n",
        "seq_length = 100"
      ]
    },
    {
      "cell_type": "markdown",
      "metadata": {
        "id": "r3RWeWiJkk3D"
      },
      "source": [
        "Metode batch memungkinkan Anda dengan mudah mengonversi karakter individual ini menjadi urutan ukuran yang diinginkan."
      ]
    },
    {
      "cell_type": "code",
      "execution_count": null,
      "metadata": {
        "colab": {
          "base_uri": "https://localhost:8080/"
        },
        "id": "CLLsY4QxkmLm",
        "outputId": "67eb87a9-520e-4419-c06b-b17919b8543b"
      },
      "outputs": [
        {
          "name": "stdout",
          "output_type": "stream",
          "text": [
            "tf.Tensor(\n",
            "[b'F' b'i' b'r' b's' b't' b' ' b'C' b'i' b't' b'i' b'z' b'e' b'n' b':'\n",
            " b'\\n' b'B' b'e' b'f' b'o' b'r' b'e' b' ' b'w' b'e' b' ' b'p' b'r' b'o'\n",
            " b'c' b'e' b'e' b'd' b' ' b'a' b'n' b'y' b' ' b'f' b'u' b'r' b't' b'h'\n",
            " b'e' b'r' b',' b' ' b'h' b'e' b'a' b'r' b' ' b'm' b'e' b' ' b's' b'p'\n",
            " b'e' b'a' b'k' b'.' b'\\n' b'\\n' b'A' b'l' b'l' b':' b'\\n' b'S' b'p' b'e'\n",
            " b'a' b'k' b',' b' ' b's' b'p' b'e' b'a' b'k' b'.' b'\\n' b'\\n' b'F' b'i'\n",
            " b'r' b's' b't' b' ' b'C' b'i' b't' b'i' b'z' b'e' b'n' b':' b'\\n' b'Y'\n",
            " b'o' b'u' b' '], shape=(101,), dtype=string)\n"
          ]
        }
      ],
      "source": [
        "sequences = ids_dataset.batch(seq_length+1, drop_remainder=True)\n",
        "\n",
        "for seq in sequences.take(1):\n",
        "  print(chars_from_ids(seq))"
      ]
    },
    {
      "cell_type": "markdown",
      "metadata": {
        "id": "xYnqkGBqkoq5"
      },
      "source": [
        "akan lebih mudah untuk melihat apa yang dilakukan jika Anda menggabungkan token kembali menjadi string:"
      ]
    },
    {
      "cell_type": "code",
      "execution_count": null,
      "metadata": {
        "colab": {
          "base_uri": "https://localhost:8080/"
        },
        "id": "iWIJMkFMlVs2",
        "outputId": "45bf7e3d-d8b3-4b58-e661-d4c8a812c9c2"
      },
      "outputs": [
        {
          "name": "stdout",
          "output_type": "stream",
          "text": [
            "b'First Citizen:\\nBefore we proceed any further, hear me speak.\\n\\nAll:\\nSpeak, speak.\\n\\nFirst Citizen:\\nYou '\n",
            "b'are all resolved rather to die than to famish?\\n\\nAll:\\nResolved. resolved.\\n\\nFirst Citizen:\\nFirst, you k'\n",
            "b\"now Caius Marcius is chief enemy to the people.\\n\\nAll:\\nWe know't, we know't.\\n\\nFirst Citizen:\\nLet us ki\"\n",
            "b\"ll him, and we'll have corn at our own price.\\nIs't a verdict?\\n\\nAll:\\nNo more talking on't; let it be d\"\n",
            "b'one: away, away!\\n\\nSecond Citizen:\\nOne word, good citizens.\\n\\nFirst Citizen:\\nWe are accounted poor citi'\n"
          ]
        }
      ],
      "source": [
        "\n",
        "for seq in sequences.take(5):\n",
        "    print(text_from_ids(seq).numpy())"
      ]
    },
    {
      "cell_type": "markdown",
      "metadata": {
        "id": "0nsugUR-labL"
      },
      "source": [
        "Untuk pelatihan, Anda memerlukan kumpulan data pasangan (input, label). Dimana input dan label merupakan urutan. Pada setiap langkah waktu, inputnya adalah karakter saat ini dan labelnya adalah karakter berikutnya. Berikut adalah fungsi yang mengambil urutan sebagai masukan, menduplikasi, dan menggesernya untuk menyelaraskan masukan dan label untuk setiap langkah waktu:"
      ]
    },
    {
      "cell_type": "code",
      "execution_count": null,
      "metadata": {
        "id": "Oeezn74glcyD"
      },
      "outputs": [],
      "source": [
        "def split_input_target(sequence):\n",
        "  input_text = sequence[:-1]\n",
        "  target_text = sequence[1:]\n",
        "  return input_text, target_text"
      ]
    },
    {
      "cell_type": "code",
      "execution_count": null,
      "metadata": {
        "colab": {
          "base_uri": "https://localhost:8080/"
        },
        "id": "p_yPgsUWle_8",
        "outputId": "80eb2b80-3fef-4a8f-8838-6311274a94d4"
      },
      "outputs": [
        {
          "data": {
            "text/plain": [
              "(['T', 'e', 'n', 's', 'o', 'r', 'f', 'l', 'o'],\n",
              " ['e', 'n', 's', 'o', 'r', 'f', 'l', 'o', 'w'])"
            ]
          },
          "execution_count": 21,
          "metadata": {},
          "output_type": "execute_result"
        }
      ],
      "source": [
        "split_input_target(list(\"Tensorflow\"))"
      ]
    },
    {
      "cell_type": "code",
      "execution_count": null,
      "metadata": {
        "id": "CidrL0lVlgj_"
      },
      "outputs": [],
      "source": [
        "\n",
        "dataset = sequences.map(split_input_target)"
      ]
    },
    {
      "cell_type": "code",
      "execution_count": null,
      "metadata": {
        "colab": {
          "base_uri": "https://localhost:8080/"
        },
        "id": "VPQ-cfIolk05",
        "outputId": "5a9e75de-c134-4777-e64a-bff7a15087e3"
      },
      "outputs": [
        {
          "name": "stdout",
          "output_type": "stream",
          "text": [
            "Input : b'First Citizen:\\nBefore we proceed any further, hear me speak.\\n\\nAll:\\nSpeak, speak.\\n\\nFirst Citizen:\\nYou'\n",
            "Target: b'irst Citizen:\\nBefore we proceed any further, hear me speak.\\n\\nAll:\\nSpeak, speak.\\n\\nFirst Citizen:\\nYou '\n"
          ]
        }
      ],
      "source": [
        "\n",
        "for input_example, target_example in dataset.take(1):\n",
        "  print(\"Input :\", text_from_ids(input_example).numpy())\n",
        "  print(\"Target:\", text_from_ids(target_example).numpy())"
      ]
    },
    {
      "cell_type": "markdown",
      "metadata": {
        "id": "uzhIRviklp3Q"
      },
      "source": [
        "### **Membuat Batch Training**\n",
        "Anda menggunakan tf.data untuk membagi teks menjadi sequence yang dapat diatur. Namun sebelum memasukkan data ini ke dalam model, Anda perlu mengacak data dan mengemasnya ke dalam batch."
      ]
    },
    {
      "cell_type": "code",
      "execution_count": null,
      "metadata": {
        "colab": {
          "base_uri": "https://localhost:8080/"
        },
        "id": "o_Gp3k47ltc-",
        "outputId": "77ad18c9-d254-4f36-dd9d-4c1a13488c07"
      },
      "outputs": [
        {
          "data": {
            "text/plain": [
              "<_PrefetchDataset element_spec=(TensorSpec(shape=(64, 100), dtype=tf.int64, name=None), TensorSpec(shape=(64, 100), dtype=tf.int64, name=None))>"
            ]
          },
          "execution_count": 24,
          "metadata": {},
          "output_type": "execute_result"
        }
      ],
      "source": [
        "# Batch size\n",
        "BATCH_SIZE = 64\n",
        "\n",
        "# Buffer size to shuffle the dataset\n",
        "# (TF data is designed to work with possibly infinite sequences,\n",
        "# so it doesn't attempt to shuffle the entire sequence in memory. Instead,\n",
        "# it maintains a buffer in which it shuffles elements).\n",
        "BUFFER_SIZE = 10000\n",
        "\n",
        "dataset = (\n",
        "    dataset\n",
        "    .shuffle(BUFFER_SIZE)\n",
        "    .batch(BATCH_SIZE, drop_remainder=True)\n",
        "    .prefetch(tf.data.experimental.AUTOTUNE))\n",
        "\n",
        "dataset"
      ]
    },
    {
      "cell_type": "markdown",
      "metadata": {
        "id": "q9Mrbp3vlwLs"
      },
      "source": [
        "### **Buat Model**\n",
        "\n",
        "Bagian ini mendefinisikan model sebagai subkelas keras.Model (untuk lebih detilnya, lihat Making new Layers and Models via subclassing).<p>\n",
        "Model yang kita bangun memiliki 3 lapisan neural network :\n",
        "- tf.keras.layers.Embedding: Lapisan masukan. Tabel pencarian yang dapat dilatih yang akan memetakan setiap karakter-ID ke vektor dengan dimensi embedding_dim;\n",
        "- tf.keras.layers.GRU: lapisan RNN dengan ukuran unit=rnn_units (Anda juga dapat menggunakan lapisan LSTM di sini.)\n",
        "- tf.keras.layers.Dense: Lapisan keluaran, dengan keluaran vocab_size. Ini menghasilkan satu logit untuk setiap karakter dalam kosakata. Ini adalah log kemungkinan setiap karakter menurut model."
      ]
    },
    {
      "cell_type": "code",
      "execution_count": null,
      "metadata": {
        "id": "aCybqmqLl7lT"
      },
      "outputs": [],
      "source": [
        "# Length of the vocabulary in StringLookup Layer\n",
        "vocab_size = len(ids_from_chars.get_vocabulary())\n",
        "\n",
        "# The embedding dimension\n",
        "embedding_dim = 256\n",
        "\n",
        "# Number of RNN units\n",
        "rnn_units = 1024"
      ]
    },
    {
      "cell_type": "code",
      "execution_count": null,
      "metadata": {
        "id": "agbpoAqpl9sO"
      },
      "outputs": [],
      "source": [
        "class MyModel(tf.keras.Model):\n",
        "  def __init__(self, vocab_size, embedding_dim, rnn_units):\n",
        "    super().__init__(self)\n",
        "    self.embedding = tf.keras.layers.Embedding(vocab_size, embedding_dim)\n",
        "    self.gru = tf.keras.layers.GRU(rnn_units,\n",
        "                                   return_sequences=True,\n",
        "                                   return_state=True)\n",
        "    self.dense = tf.keras.layers.Dense(vocab_size)\n",
        "\n",
        "  def call(self, inputs, states=None, return_state=False, training=False):\n",
        "    x = inputs\n",
        "    x = self.embedding(x, training=training)\n",
        "    if states is None:\n",
        "      states = self.gru.get_initial_state(x)\n",
        "    x, states = self.gru(x, initial_state=states, training=training)\n",
        "    x = self.dense(x, training=training)\n",
        "\n",
        "    if return_state:\n",
        "      return x, states\n",
        "    else:\n",
        "      return x"
      ]
    },
    {
      "cell_type": "code",
      "execution_count": null,
      "metadata": {
        "id": "ZxVtYS6vl_lD"
      },
      "outputs": [],
      "source": [
        "model = MyModel(\n",
        "    vocab_size=vocab_size,\n",
        "    embedding_dim=embedding_dim,\n",
        "    rnn_units=rnn_units)"
      ]
    },
    {
      "cell_type": "markdown",
      "metadata": {
        "id": "J1wWT5SfmDK3"
      },
      "source": [
        "Untuk setiap karakter, model mencari penyematan, menjalankan GRU satu langkah waktu dengan penyematan sebagai masukan, dan menerapkan dense layer untuk menghasilkan log yang memprediksi kemungkinan log karakter berikutnya:<p>\n",
        "\n",
        "<img src = \"https://raw.githubusercontent.com/tensorflow/text/master/docs/tutorials/images/text_generation_training.png\"><p>\n",
        "\n",
        "Note: Untuk pelatihan Anda bisa menggunakan model keras.Sequential di sini. Untuk menghasilkan teks nanti, Anda harus mengelola status internal RNN. Akan lebih mudah untuk memasukkan opsi input dan output status di awal, daripada mengatur ulang arsitektur model nanti. untuk detailnya bisa dilihat Keras RNN guide.\n",
        "\n",
        "### **Uji Model**\n",
        "Coba jalankan model dan cek apakah sidah sesuai dengan output\n",
        "pertama, cek bentuk dari output"
      ]
    },
    {
      "cell_type": "code",
      "execution_count": null,
      "metadata": {
        "colab": {
          "base_uri": "https://localhost:8080/"
        },
        "id": "XpquASdEmbzS",
        "outputId": "26f916b1-a4c0-4eb0-b8c5-2c4645b2e2b0"
      },
      "outputs": [
        {
          "name": "stdout",
          "output_type": "stream",
          "text": [
            "(64, 100, 66) # (batch_size, sequence_length, vocab_size)\n"
          ]
        }
      ],
      "source": [
        "for input_example_batch, target_example_batch in dataset.take(1):\n",
        "    example_batch_predictions = model(input_example_batch)\n",
        "    print(example_batch_predictions.shape, \"# (batch_size, sequence_length, vocab_size)\")"
      ]
    },
    {
      "cell_type": "markdown",
      "metadata": {
        "id": "gmldwSBtmf98"
      },
      "source": [
        "Dalam contoh di atas, panjang urutan masukan adalah 100 tetapi model dapat dijalankan pada masukan dengan panjang berapa pun:"
      ]
    },
    {
      "cell_type": "code",
      "execution_count": null,
      "metadata": {
        "colab": {
          "base_uri": "https://localhost:8080/"
        },
        "id": "M4p8PdlkmhZp",
        "outputId": "9bc481dc-b4cd-4ebf-c6aa-81c3ef646fac"
      },
      "outputs": [
        {
          "name": "stdout",
          "output_type": "stream",
          "text": [
            "Model: \"my_model\"\n",
            "_________________________________________________________________\n",
            " Layer (type)                Output Shape              Param #   \n",
            "=================================================================\n",
            " embedding (Embedding)       multiple                  16896     \n",
            "                                                                 \n",
            " gru (GRU)                   multiple                  3938304   \n",
            "                                                                 \n",
            " dense (Dense)               multiple                  67650     \n",
            "                                                                 \n",
            "=================================================================\n",
            "Total params: 4022850 (15.35 MB)\n",
            "Trainable params: 4022850 (15.35 MB)\n",
            "Non-trainable params: 0 (0.00 Byte)\n",
            "_________________________________________________________________\n"
          ]
        }
      ],
      "source": [
        "model.summary()"
      ]
    },
    {
      "cell_type": "markdown",
      "metadata": {
        "id": "kB8iTYAomjr0"
      },
      "source": [
        "Untuk mendapatkan prediksi aktual dari model, Anda perlu mengambil sampel dari distribusi keluaran, untuk mendapatkan indeks karakter aktual. Distribusi ini ditentukan oleh logit pada kosakata karakter. Catatan: Penting untuk mengambil sampel dari distribusi ini karena mengambil argmax dari distribusi tersebut dapat dengan mudah membuat model terjebak dalam infinote loop. Cobalah untuk contoh pertama di batch:"
      ]
    },
    {
      "cell_type": "code",
      "execution_count": null,
      "metadata": {
        "id": "rmswLGKOmlQv"
      },
      "outputs": [],
      "source": [
        "\n",
        "sampled_indices = tf.random.categorical(example_batch_predictions[0],num_samples=1)\n",
        "sampled_indices = tf.squeeze(sampled_indices, axis=-1).numpy()"
      ]
    },
    {
      "cell_type": "markdown",
      "metadata": {
        "id": "DHLCZ1bSmp8P"
      },
      "source": [
        "Hal ini memberi kita, pada setiap langkah waktu, prediksi indeks karakter berikutnya:"
      ]
    },
    {
      "cell_type": "code",
      "execution_count": null,
      "metadata": {
        "colab": {
          "base_uri": "https://localhost:8080/"
        },
        "id": "sw23e_ilm1TF",
        "outputId": "2ca2773f-d9fb-4a7e-dad8-7e4508bc7030"
      },
      "outputs": [
        {
          "data": {
            "text/plain": [
              "array([39, 56, 56, 54, 15,  6,  2, 30, 56, 33, 20, 32,  7, 26, 16, 35, 23,\n",
              "        0, 24, 32, 64, 65, 57, 19, 31, 14, 65, 55,  4, 39, 62, 19, 45, 47,\n",
              "       40, 28, 46, 23, 20, 32, 31, 15, 48, 25, 58, 13, 33, 29, 14, 40, 58,\n",
              "       34, 44, 11, 53, 15, 54, 34, 63, 42, 27, 28, 17,  3, 25, 29, 17, 31,\n",
              "        2, 51, 47,  3, 60,  3, 40, 34, 25, 28, 46,  1, 55, 10, 48, 36,  6,\n",
              "       15, 29, 59, 40, 28,  7, 16, 61, 45, 48, 56, 40, 31, 44,  8])"
            ]
          },
          "execution_count": 31,
          "metadata": {},
          "output_type": "execute_result"
        }
      ],
      "source": [
        "sampled_indices"
      ]
    },
    {
      "cell_type": "markdown",
      "metadata": {
        "id": "i70bI0ism4Ac"
      },
      "source": [
        "Dekode kode berikut untuk melihat teks yang diprediksi oleh model tidak terlatih ini:"
      ]
    },
    {
      "cell_type": "code",
      "execution_count": null,
      "metadata": {
        "colab": {
          "base_uri": "https://localhost:8080/"
        },
        "id": "Dle-lW8vm5tC",
        "outputId": "34c55d94-bc02-4ec4-ba49-36f00fb91936"
      },
      "outputs": [
        {
          "name": "stdout",
          "output_type": "stream",
          "text": [
            "Input:\n",
            " b' I was an inward of his. A shy fellow was the\\nduke: and I believe I know the cause of his\\nwithdrawin'\n",
            "\n",
            "Next Char Predictions:\n",
            " b\"ZqqoB' QqTGS,MCVJ[UNK]KSyzrFRAzp$ZwFfhaOgJGSRBiLs?TPAasUe:nBoUxcNOD!LPDR lh!u!aULOg\\np3iW'BPtaO,CvfiqaRe-\"\n"
          ]
        }
      ],
      "source": [
        "print(\"Input:\\n\", text_from_ids(input_example_batch[0]).numpy())\n",
        "print()\n",
        "print(\"Next Char Predictions:\\n\", text_from_ids(sampled_indices).numpy())"
      ]
    },
    {
      "cell_type": "markdown",
      "metadata": {
        "id": "1A5HINuem-qK"
      },
      "source": [
        "### **Train Model**\n",
        "Pada titik ini permasalahan dapat dianggap sebagai permasalahan klasifikasi standar. Permasalahan dapat disimpulkan dengan : Berdasarkan status RNN sebelumnya, dan masukan langkah kali ini, prediksi kelas karakter berikutnya.<p>\n",
        "\n",
        "**Tambahan optimizer dan fungsi loss**<p>\n",
        "\n",
        "loss function tf.keras.losses.sparse_categorical_crossentropy standar berfungsi dalam kasus ini karena diterapkan di seluruh dimensi terakhir prediksi. Karena model Anda mengembalikan logits, Anda perlu mengatur flag from_logits."
      ]
    },
    {
      "cell_type": "code",
      "execution_count": null,
      "metadata": {
        "id": "sAuRxCWdnKTE"
      },
      "outputs": [],
      "source": [
        "\n",
        "loss = tf.losses.SparseCategoricalCrossentropy(from_logits=True)"
      ]
    },
    {
      "cell_type": "code",
      "execution_count": null,
      "metadata": {
        "colab": {
          "base_uri": "https://localhost:8080/"
        },
        "id": "i5cY7opBnSHB",
        "outputId": "e816c171-a382-4c56-a71a-aa5d7dcc756b"
      },
      "outputs": [
        {
          "name": "stdout",
          "output_type": "stream",
          "text": [
            "Prediction shape:  (64, 100, 66)  # (batch_size, sequence_length, vocab_size)\n",
            "Mean loss:         tf.Tensor(4.1903353, shape=(), dtype=float32)\n"
          ]
        }
      ],
      "source": [
        "\n",
        "example_batch_mean_loss = loss(target_example_batch, example_batch_predictions)\n",
        "print(\"Prediction shape: \", example_batch_predictions.shape, \" # (batch_size, sequence_length, vocab_size)\")\n",
        "print(\"Mean loss:        \", example_batch_mean_loss)"
      ]
    },
    {
      "cell_type": "markdown",
      "metadata": {
        "id": "yYs0aHcnnUDB"
      },
      "source": [
        "Model yang baru diinisialisasi tidak boleh terlalu yakin dengan dirinya sendiri, semua log keluaran harus memiliki besaran yang sama. Untuk mengonfirmasi hal ini, Anda dapat memeriksa bahwa eksponensial dari loss rata-rata harus kira-kira sama dengan ukuran kosakata. Loss yang jauh lebih tinggi berarti model tersebut yakin akan jawaban yang salah, dan memiliki inisialisasi yang buruk:"
      ]
    },
    {
      "cell_type": "code",
      "execution_count": null,
      "metadata": {
        "colab": {
          "base_uri": "https://localhost:8080/"
        },
        "id": "PMvQ-yZDnVcy",
        "outputId": "2358296d-3377-4837-83a7-c3caead4c039"
      },
      "outputs": [
        {
          "data": {
            "text/plain": [
              "66.04493"
            ]
          },
          "execution_count": 35,
          "metadata": {},
          "output_type": "execute_result"
        }
      ],
      "source": [
        "tf.exp(example_batch_mean_loss).numpy()"
      ]
    },
    {
      "cell_type": "markdown",
      "metadata": {
        "id": "wAVnuE-BnX3T"
      },
      "source": [
        "Konfigurasikan prosedur pelatihan menggunakan metode tf.keras.Model.compile. Gunakan tf.keras.optimizers.Adam dengan argumen default dan fungsi loss."
      ]
    },
    {
      "cell_type": "code",
      "execution_count": null,
      "metadata": {
        "id": "KX_URPUMnZqZ"
      },
      "outputs": [],
      "source": [
        "model.compile(optimizer='adam',loss=loss)"
      ]
    },
    {
      "cell_type": "markdown",
      "metadata": {
        "id": "G_cVUCDmne85"
      },
      "source": [
        "### **Konfigurasi Checkpoints**\n",
        "Gunakan tf.keras.callbacks.ModelCheckpoint untuk memastikan bahwa checkpoint disimpan selama pelatihan:"
      ]
    },
    {
      "cell_type": "code",
      "execution_count": null,
      "metadata": {
        "id": "wj3uCCY_ni_-"
      },
      "outputs": [],
      "source": [
        "# Directory where the checkpoints will be saved\n",
        "checkpoint_dir = './training_checkpoints'\n",
        "# Name of the checkpoint files\n",
        "checkpoint_prefix = os.path.join(checkpoint_dir, \"ckpt_{epoch}\")\n",
        "\n",
        "checkpoint_callback = tf.keras.callbacks.ModelCheckpoint(\n",
        "    filepath=checkpoint_prefix,\n",
        "    save_weights_only=True)"
      ]
    },
    {
      "cell_type": "markdown",
      "metadata": {
        "id": "7Dd2TQ4anlab"
      },
      "source": [
        "### **Lakukan Proses Training**\n",
        "Agar waktu pelatihan tidak terlalu lama, gunakan 10 epoch untuk melatih model. Di Colab, setel runtime ke GPU untuk pelatihan yang lebih cepat."
      ]
    },
    {
      "cell_type": "code",
      "execution_count": null,
      "metadata": {
        "id": "2aLuZh7cno8H"
      },
      "outputs": [],
      "source": [
        "EPOCHS = 20"
      ]
    },
    {
      "cell_type": "code",
      "execution_count": null,
      "metadata": {
        "colab": {
          "base_uri": "https://localhost:8080/"
        },
        "id": "PoayQKVrn2jf",
        "outputId": "249bcd51-ce11-4ca5-c9ed-cc380b2c2f3a"
      },
      "outputs": [
        {
          "name": "stdout",
          "output_type": "stream",
          "text": [
            "Epoch 1/20\n",
            "172/172 [==============================] - 14s 59ms/step - loss: 2.7204\n",
            "Epoch 2/20\n",
            "172/172 [==============================] - 12s 58ms/step - loss: 1.9934\n",
            "Epoch 3/20\n",
            "172/172 [==============================] - 12s 58ms/step - loss: 1.7134\n",
            "Epoch 4/20\n",
            "172/172 [==============================] - 12s 59ms/step - loss: 1.5516\n",
            "Epoch 5/20\n",
            "172/172 [==============================] - 15s 64ms/step - loss: 1.4515\n",
            "Epoch 6/20\n",
            "172/172 [==============================] - 16s 64ms/step - loss: 1.3828\n",
            "Epoch 7/20\n",
            "172/172 [==============================] - 12s 61ms/step - loss: 1.3300\n",
            "Epoch 8/20\n",
            "172/172 [==============================] - 12s 61ms/step - loss: 1.2853\n",
            "Epoch 9/20\n",
            "172/172 [==============================] - 13s 60ms/step - loss: 1.2442\n",
            "Epoch 10/20\n",
            "172/172 [==============================] - 13s 64ms/step - loss: 1.2036\n",
            "Epoch 11/20\n",
            "172/172 [==============================] - 12s 62ms/step - loss: 1.1641\n",
            "Epoch 12/20\n",
            "172/172 [==============================] - 13s 63ms/step - loss: 1.1224\n",
            "Epoch 13/20\n",
            "172/172 [==============================] - 13s 60ms/step - loss: 1.0789\n",
            "Epoch 14/20\n",
            "172/172 [==============================] - 12s 61ms/step - loss: 1.0327\n",
            "Epoch 15/20\n",
            "172/172 [==============================] - 12s 62ms/step - loss: 0.9836\n",
            "Epoch 16/20\n",
            "172/172 [==============================] - 12s 62ms/step - loss: 0.9340\n",
            "Epoch 17/20\n",
            "172/172 [==============================] - 12s 60ms/step - loss: 0.8805\n",
            "Epoch 18/20\n",
            "172/172 [==============================] - 12s 62ms/step - loss: 0.8276\n",
            "Epoch 19/20\n",
            "172/172 [==============================] - 12s 61ms/step - loss: 0.7755\n",
            "Epoch 20/20\n",
            "172/172 [==============================] - 12s 61ms/step - loss: 0.7283\n"
          ]
        }
      ],
      "source": [
        "history=model.fit(dataset,epochs=EPOCHS,callbacks=[checkpoint_callback])"
      ]
    },
    {
      "cell_type": "markdown",
      "metadata": {
        "id": "1-78lVfFoo8k"
      },
      "source": [
        "### **Generate Teks**\n",
        "\n",
        "Cara termudah untuk menghasilkan teks dengan model ini adalah dengan menjalankannya dalam loop, dan menyimpan status internal model saat Anda menjalankannya.<p>\n",
        "\n",
        "<img src = \"https://raw.githubusercontent.com/tensorflow/text/master/docs/tutorials/images/text_generation_sampling.png\"><p>"
      ]
    },
    {
      "cell_type": "markdown",
      "metadata": {
        "id": "s75-_800o1mH"
      },
      "source": [
        "Setiap kali Anda memanggil model, Anda memasukkan beberapa teks dan state internal. Model mengembalikan prediksi untuk karakter berikutnya dan state barunya. Masukkan kembali prediksi dan state ke model untuk terus menghasilkan teks.<p>\n",
        "\n",
        "Berikut ini membuat prediksi satu langkah:"
      ]
    },
    {
      "cell_type": "code",
      "execution_count": null,
      "metadata": {
        "id": "6NsWLf39o45E"
      },
      "outputs": [],
      "source": [
        "class OneStep(tf.keras.Model):\n",
        "  def __init__(self, model, chars_from_ids, ids_from_chars, temperature=1.0):\n",
        "    super().__init__()\n",
        "    self.temperature = temperature\n",
        "    self.model = model\n",
        "    self.chars_from_ids = chars_from_ids\n",
        "    self.ids_from_chars = ids_from_chars\n",
        "\n",
        "    # Create a mask to prevent \"[UNK]\" from being generated.\n",
        "    skip_ids = self.ids_from_chars(['[UNK]'])[:, None]\n",
        "    sparse_mask = tf.SparseTensor(\n",
        "        # Put a -inf at each bad index.\n",
        "        values=[-float('inf')]*len(skip_ids),\n",
        "        indices=skip_ids,\n",
        "        # Match the shape to the vocabulary\n",
        "        dense_shape=[len(ids_from_chars.get_vocabulary())])\n",
        "    self.prediction_mask = tf.sparse.to_dense(sparse_mask)\n",
        "\n",
        "  @tf.function\n",
        "  def generate_one_step(self, inputs, states=None):\n",
        "    # Convert strings to token IDs.\n",
        "    input_chars = tf.strings.unicode_split(inputs, 'UTF-8')\n",
        "    input_ids = self.ids_from_chars(input_chars).to_tensor()\n",
        "\n",
        "    # Run the model.\n",
        "    # predicted_logits.shape is [batch, char, next_char_logits]\n",
        "    predicted_logits, states = self.model(inputs=input_ids, states=states,\n",
        "                                          return_state=True)\n",
        "    # Only use the last prediction.\n",
        "    predicted_logits = predicted_logits[:, -1, :]\n",
        "    predicted_logits = predicted_logits/self.temperature\n",
        "    # Apply the prediction mask: prevent \"[UNK]\" from being generated.\n",
        "    predicted_logits = predicted_logits + self.prediction_mask\n",
        "\n",
        "    # Sample the output logits to generate token IDs.\n",
        "    predicted_ids = tf.random.categorical(predicted_logits, num_samples=1)\n",
        "    predicted_ids = tf.squeeze(predicted_ids, axis=-1)\n",
        "\n",
        "    # Convert from token ids to characters\n",
        "    predicted_chars = self.chars_from_ids(predicted_ids)\n",
        "\n",
        "    # Return the characters and model state.\n",
        "    return predicted_chars, states"
      ]
    },
    {
      "cell_type": "code",
      "execution_count": null,
      "metadata": {
        "id": "0cuRSdUKo6i3"
      },
      "outputs": [],
      "source": [
        "one_step_model=OneStep(model,chars_from_ids,ids_from_chars)"
      ]
    },
    {
      "cell_type": "markdown",
      "metadata": {
        "id": "iBiLabljo8Gb"
      },
      "source": [
        "Jalankan secara berulang untuk menghasilkan beberapa teks. Melihat teks yang dihasilkan, Anda akan melihat model mengetahui kapan harus menggunakan huruf besar, membuat paragraf, dan meniru kosakata menulis seperti Shakespeare. Karena sedikitnya jumlah epoch pelatihan, model belum belajar membentuk kalimat runtut."
      ]
    },
    {
      "cell_type": "code",
      "execution_count": null,
      "metadata": {
        "colab": {
          "base_uri": "https://localhost:8080/"
        },
        "id": "bJ0GsvmPo9Xe",
        "outputId": "e798071b-97e3-481e-c3a1-cca4d5dbe7da"
      },
      "outputs": [
        {
          "name": "stdout",
          "output_type": "stream",
          "text": [
            "ROMEO:\n",
            "This is a second stone,\n",
            "may find enough; I will commend me\n",
            "'Twas ado to move some labour. Affection!\n",
            "Turn the trumpets; and in request,\n",
            "If they had been too deep and all along since,\n",
            "With courtimes my petition with the infant.\n",
            "O traitor love, mean to some privine.\n",
            "\n",
            "She incommockers? how my soul these likeness to our patrim,\n",
            "With them afflies; these I live him, and Marcius shall not\n",
            "more changed in our life, for our ofies,\n",
            "As call'd kisses needful wife and make,\n",
            "Will poison reverence and a life of giars,\n",
            "And bid the same knows into thy head.\n",
            "\n",
            "Shepherd:\n",
            "No; I will not speak; for yet are friend out their treason\n",
            "Against our sides and richest drowning:\n",
            "O fly, fierce, away; let a fire a loving head!\n",
            "Then have you both my father's death,\n",
            "I thought he make him fright at for admitting:\n",
            "Tell me, on a sovereign of thine faith,\n",
            "Which on my presence, and over Marcius small\n",
            "The motaly former phrasams of the earth:\n",
            "That breathed upon staff, which spaless\n",
            "Which with a fewder witch? Happy makes me cr \n",
            "\n",
            "________________________________________________________________________________\n",
            "\n",
            "Run time: 4.052966833114624\n"
          ]
        }
      ],
      "source": [
        "start = time.time()\n",
        "states = None\n",
        "next_char = tf.constant(['ROMEO:'])\n",
        "result = [next_char]\n",
        "\n",
        "for n in range(1000):\n",
        "  next_char, states = one_step_model.generate_one_step(next_char, states=states)\n",
        "  result.append(next_char)\n",
        "\n",
        "result = tf.strings.join(result)\n",
        "end = time.time()\n",
        "print(result[0].numpy().decode('utf-8'), '\\n\\n' + '_'*80)\n",
        "print('\\nRun time:', end - start)"
      ]
    },
    {
      "cell_type": "markdown",
      "metadata": {
        "id": "c4BvlfvepAhX"
      },
      "source": [
        "Hal termudah yang dapat Anda lakukan untuk meningkatkan hasil adalah dengan melatihnya lebih lama (coba EPOCHS = 30). Anda juga dapat bereksperimen dengan string awal yang berbeda, mencoba menambahkan lapisan RNN lain untuk meningkatkan akurasi model, atau menyesuaikan parameter suhu untuk menghasilkan prediksi yang kurang lebih acak.<p>\n",
        "Jika Anda ingin model menghasilkan teks lebih cepat, hal termudah yang dapat Anda lakukan adalah membuat teks secara batch. Pada contoh di bawah, model menghasilkan 5 keluaran dalam waktu yang hampir sama dengan waktu yang dibutuhkan untuk menghasilkan 1 keluaran di atas."
      ]
    },
    {
      "cell_type": "code",
      "execution_count": null,
      "metadata": {
        "colab": {
          "base_uri": "https://localhost:8080/"
        },
        "id": "3lLGIhHIpASq",
        "outputId": "83c8ba5b-b046-48f8-991a-baa538ab9811"
      },
      "outputs": [
        {
          "name": "stdout",
          "output_type": "stream",
          "text": [
            "tf.Tensor(\n",
            "[b\"ROMEO:\\nThe hours sit to serve as best.\\n\\nLUCIO:\\nHad he done tears? Arms we will have kill'd him to,\\nAnd, to the King of Naples, where it being,\\nGood Katharina, see that means\\nSuffinent from his trought more wither'd shruw,\\nAnd wouldst ambush and Edward longer tears.\\nO, be so rendect vow'd upon him.\\n\\nCOMINIUS:\\nToo high, and this urged grap at us,\\nBerueder than these ratslessed with like.\\n\\nISABELLA:\\nHow hast thou, my brother?\\n\\nHERMIONE:\\nTears such gentleman whose youngest day\\nShall the people are we to our trenches,\\nThereon yet unboking, that to this peace.\\n\\nBENVOLIO:\\nAnd that my life, my lord.\\n\\nKING RICHARD II:\\nO Daughter,\\nWho else you talk of traitors more.\\nThe Earl of Wiltshire, stand by him;\\n'The doth forswear him, Sisan 's hand'd.\\n\\nGLOUCESTER:\\nWell, let the perpetial sent of all.\\nThe solder is thy slaughter up in store.\\n\\nLUCIO:\\nIs it escaped in this all, I will push\\nWorse: and where Lewest time, makest thou fiest\\nTell me! these looks become home?\\n\\nVOLUMNIA:\\nHow? come home to Pamis and roya\"\n",
            " b\"ROMEO:\\nThe fatal scloces I like not of them.\\n\\nBRUTUS:\\nSir, to do't after it.\\nIn hers, many foul shadows too.\\n\\nESCALUS:\\nI will with me for this besomace gave us out the level.\\n\\nBUSHY:\\nEre, this must will I lend than your eye.\\nThou know'st, that, would it shall know well.\\nHave I, to cheer will tell me I shall become your good will;\\nNor wis when having First, and thou untimely\\nTo reing.\\n\\nMENENIUS:\\nNot a word! I think,\\nFall in one sort. Thy sudden steed reduces,\\nThe sun and futless. See, to obey your beats, potress:\\nO, pilots, garment I prod seen them,\\nWhich is the rump trembling death.\\n\\nVIRGILIA:\\nIndeed, my lord.\\n\\nDUKE VINCENTIO:\\nIf it be so,--\\n\\nLUCIO:\\nA Montagues! and a pair of kings? 'tis to the duke.\\n\\nESCALUS:\\nWhy, and comfort, murderd?\\n\\nPETRUCHIO:\\nWell, let us the duke.\\n\\nDUKE VINCENTIO:\\nIf I with me, mistress, hold in your husband\\nAnd the Lord Clifford come no more of traitor\\nWere stronget there, before you ausewable.\\nI do not seek as mine, on Tyranning,\\nBut by the fresh springs, but none s\"\n",
            " b\"ROMEO:\\nFind, sir, of noxemilate hand,\\nAnd put you for this humour was so,\\nThat offer censure subject his makes the absence.\\n\\nPERDITA:\\nEither I mean foul-sides; sometime should escape.\\n\\nHERMIONE:\\nHast thou my wife!\\n\\nLUCIO:\\n'Tis all of us; and after the worser of an all of us,\\nadvertising Captain Blunt, be brief in small\\nTo me that on the earth or moving arist;\\nThe worst is meet not what thou art.\\n\\nGLOUCESTER:\\nWhy, no more words your highness would have had a joy\\nWith that which thou obey'd: thou dost bend thy knee\\nWith pilot of rich Cretook son further.\\n\\nSAMPSON:\\nGregny\\nSince he has done, my lord, and go apollo longer.\\n\\nCAMILLO:\\nO my book poor syrury, prepured\\nMan is comfort. When no man Bianca fallen up\\nOf honourable to honest love to death!\\nProvoke upon his majesty; his ancient love-see-men,\\nThat seems the vault of cursed sheets!\\nWhat adversation labour made a solly children?\\n\\nBAPTISTA:\\nHow now, gail your highness, pentiloce,\\nwhich made to dinner: out. O gods! not\\nMercy, if affairing such d\"\n",
            " b\"ROMEO:\\nGentle Norfolk: have I charge thee,\\nAnd to come both.\\n\\nBRUTUS:\\nHow cousin in thy ears? I know?\\n\\nDUKE OF YORK:\\nO Ratcliff, I talk but longer.\\n\\nLUCIO:\\n'hicia, ladies on your will usurp'd.\\n\\nLORD FITZAGUE:\\nBut I thank me to you: misfor me! who knows there.\\n\\nGLOUCESTER:\\nAnd gracting sudden, gentle uncle. Cup, people.\\n\\nSEBASTIAN:\\nYour grace after many old man's eye:\\nHim I am not before, it did.\\n\\nQUEEN ELIZABETH:\\nOh no commother, never stand sallet with him.\\n\\nBUCKINGHAM:\\nMy lord, the friar, sit down: they be so endlain'd\\nWith Juliet, lobort's fault, I learn to my wits.\\nI shall be by the year that you have still 'twixt slaves for me.\\n\\nGLOUCESTER:\\nBut how long shall thy will be match'd? the lower\\nIn fair Ancil which hip companion better\\nFallen and not longer to one law, and heard\\nhim up all, but when he studied here,\\nHis unstain mercy proved man again,\\nIn blusting sure, that graciously had spoke\\nbatherly, which, the ship splits of it\\nA cordinal pisacement, riches it as mighty\\nstirs. Come, we k\"\n",
            " b\"ROMEO:\\nI fear you not; more hand!\\nI think the argul Happiness me from the hour\\nWith themselves of his grandmader,\\nFor tender pardons and that took some pursua;\\nBut the prince had rather hate the city lends will sit\\nAngelo in another brave vanques:\\nA dish of love but love's heirs fifteen less my hands\\nThrough all the princess shrewd that little less.\\n\\nRICHARD:\\nAlack, my any talk, so manifess, and make\\nThe fire and danger.\\n\\nFirst Citizen:\\nNow is your night is nearer that they have kept myself.\\nO, well appeaced it not traitor to the traitor\\nTo rouse the thing I have, with dully shearing,\\nIntends the elder safety hate of tale.\\nWill then tumbles Our drumss and your blattering trenk\\nThat seal'd the ghosty canorop of than meal.\\nThus, Bianca, Kate, and tell me shall you come to;\\nBut shall he be blunt hit in his state,\\nAgainst with ropart, this same valour's tears,\\nHis ansisted with your brother and his child,\\nHis only lack of this sceptle villain,\\nHe is my father of their hearts.\\n\\nLORD WILLOUGHBY:\\nH\"], shape=(5,), dtype=string) \n",
            "\n",
            "________________________________________________________________________________\n",
            "\n",
            "Run time: 3.3480658531188965\n"
          ]
        }
      ],
      "source": [
        "start = time.time()\n",
        "states = None\n",
        "next_char = tf.constant(['ROMEO:', 'ROMEO:', 'ROMEO:', 'ROMEO:', 'ROMEO:'])\n",
        "result = [next_char]\n",
        "\n",
        "for n in range(1000):\n",
        "  next_char, states = one_step_model.generate_one_step(next_char, states=states)\n",
        "  result.append(next_char)\n",
        "\n",
        "result = tf.strings.join(result)\n",
        "end = time.time()\n",
        "print(result, '\\n\\n' + '_'*80)\n",
        "print('\\nRun time:', end - start)"
      ]
    },
    {
      "cell_type": "markdown",
      "metadata": {
        "id": "nuE7o-E2pGzi"
      },
      "source": [
        "### **Ekspor Model Generator**\n",
        "Model satu langkah ini dapat dengan mudah disimpan dan digunakan kembali, memungkinkan Anda menggunakannya di mana pun tf.saved_model diterima."
      ]
    },
    {
      "cell_type": "code",
      "execution_count": null,
      "metadata": {
        "colab": {
          "base_uri": "https://localhost:8080/"
        },
        "id": "sMptLykppKBs",
        "outputId": "9fe83f4b-1c13-471d-8f36-421557f2302e"
      },
      "outputs": [
        {
          "name": "stderr",
          "output_type": "stream",
          "text": [
            "WARNING:tensorflow:Skipping full serialization of Keras layer <__main__.OneStep object at 0x78a19012a290>, because it is not built.\n",
            "WARNING:tensorflow:Model's `__init__()` arguments contain non-serializable objects. Please implement a `get_config()` method in the subclassed Model for proper saving and loading. Defaulting to empty config.\n",
            "WARNING:tensorflow:Model's `__init__()` arguments contain non-serializable objects. Please implement a `get_config()` method in the subclassed Model for proper saving and loading. Defaulting to empty config.\n"
          ]
        }
      ],
      "source": [
        "tf.saved_model.save(one_step_model, 'one_step')\n",
        "one_step_reloaded = tf.saved_model.load('one_step')"
      ]
    },
    {
      "cell_type": "code",
      "execution_count": null,
      "metadata": {
        "colab": {
          "base_uri": "https://localhost:8080/"
        },
        "id": "1evxxnz5pLQI",
        "outputId": "95ac4a5c-7882-460f-aa5b-fe3d92b5b715"
      },
      "outputs": [
        {
          "name": "stdout",
          "output_type": "stream",
          "text": [
            "ROMEO:\n",
            "The adviu curse\n",
            "Of my dozen nurse, to the Tower on's\n",
            "Thus, but I shall the duke make merried,\n",
            "Nor t\n"
          ]
        }
      ],
      "source": [
        "states = None\n",
        "next_char = tf.constant(['ROMEO:'])\n",
        "result = [next_char]\n",
        "\n",
        "for n in range(100):\n",
        "  next_char, states = one_step_reloaded.generate_one_step(next_char, states=states)\n",
        "  result.append(next_char)\n",
        "\n",
        "print(tf.strings.join(result)[0].numpy().decode(\"utf-8\"))"
      ]
    },
    {
      "cell_type": "markdown",
      "metadata": {
        "id": "dighPNItqrOf"
      },
      "source": [
        "----\n",
        "### **Tugas**\n",
        "\n",
        "Prosedur pelatihan pada praktikum 2 merupakan prosedur sederhana, yang tidak memberi Anda banyak kendali. Model ini menggunakan \"teacher-forcing\" yang mencegah prediksi buruk diumpankan kembali ke model, sehingga model tidak pernah belajar untuk pulih dari kesalahan. Jadi, setelah Anda melihat cara menjalankan model secara manual, selanjutnya Anda akan mengimplementasikan custom loop pelatihan. Hal ini memberikan titik awal jika, misalnya, Anda ingin menerapkan pembelajaran kurikulum untuk membantu menstabilkan keluaran open-loop model. Bagian terpenting dari loop pelatihan khusus adalah fungsi langkah pelatihan.<p>\n",
        "Gunakan tf.GradientTape untuk men track nilai gradient. Anda dapat mempelajari lebih lanjut tentang pendekatan ini dengan membaca eager execution guide.<p>\n",
        "\n",
        "Prosedurnya adalah \"<p>\n",
        "1. Jalankan Model dan hitung loss dengan tf.GradientTape.\n",
        "2. Hitung update dan terapkan pada model dengan optimizer\n",
        "\n",
        "\n",
        "### **Jawab**"
      ]
    },
    {
      "cell_type": "code",
      "execution_count": 1,
      "metadata": {
        "id": "m1dVe8FxrDuU"
      },
      "outputs": [],
      "source": [
        "import tensorflow as tf\n",
        "import numpy as np\n",
        "import os\n",
        "import time"
      ]
    },
    {
      "cell_type": "markdown",
      "metadata": {
        "id": "jGsqYujLrDdY"
      },
      "source": [
        "melakukan download Dataset Shakespeare"
      ]
    },
    {
      "cell_type": "code",
      "execution_count": 2,
      "metadata": {
        "colab": {
          "base_uri": "https://localhost:8080/"
        },
        "id": "FuuPhTEFrWgL",
        "outputId": "3a48ad3f-4a61-4711-fa1e-05879c9d426f"
      },
      "outputs": [
        {
          "name": "stdout",
          "output_type": "stream",
          "text": [
            "Downloading data from https://storage.googleapis.com/download.tensorflow.org/data/shakespeare.txt\n",
            "1115394/1115394 [==============================] - 0s 0us/step\n"
          ]
        }
      ],
      "source": [
        "path_to_file = tf.keras.utils.get_file('shakespeare.txt', 'https://storage.googleapis.com/download.tensorflow.org/data/shakespeare.txt')"
      ]
    },
    {
      "cell_type": "markdown",
      "metadata": {
        "id": "5UMseXEHn55d"
      },
      "source": [
        "Load Data"
      ]
    },
    {
      "cell_type": "code",
      "execution_count": 3,
      "metadata": {
        "colab": {
          "base_uri": "https://localhost:8080/"
        },
        "id": "alMtjR79rbPZ",
        "outputId": "0f2f0263-6fc9-439e-f7a6-5b6cc4447c25"
      },
      "outputs": [
        {
          "name": "stdout",
          "output_type": "stream",
          "text": [
            "Length of text: 1115394 characters\n"
          ]
        }
      ],
      "source": [
        "# Read, then decode for py2 compat.\n",
        "text = open(path_to_file, 'rb').read().decode(encoding='utf-8')\n",
        "# length of text is the number of characters in it\n",
        "print(f'Length of text: {len(text)} characters')"
      ]
    },
    {
      "cell_type": "code",
      "execution_count": 4,
      "metadata": {
        "colab": {
          "base_uri": "https://localhost:8080/"
        },
        "id": "KW3eyB9cre6X",
        "outputId": "2cf87dab-7114-401e-d1f1-b8fc47cc7016"
      },
      "outputs": [
        {
          "name": "stdout",
          "output_type": "stream",
          "text": [
            "First Citizen:\n",
            "Before we proceed any further, hear me speak.\n",
            "\n",
            "All:\n",
            "Speak, speak.\n",
            "\n",
            "First Citizen:\n",
            "You are all resolved rather to die than to famish?\n",
            "\n",
            "All:\n",
            "Resolved. resolved.\n",
            "\n",
            "First Citizen:\n",
            "First, you know Caius Marcius is chief enemy to the people.\n",
            "\n"
          ]
        }
      ],
      "source": [
        "\n",
        "# Take a look at the first 250 characters in text\n",
        "print(text[:250])\n"
      ]
    },
    {
      "cell_type": "code",
      "execution_count": 5,
      "metadata": {
        "colab": {
          "base_uri": "https://localhost:8080/"
        },
        "id": "oYzdGYDnrouC",
        "outputId": "d0d84912-1701-48f0-ccfc-4c5ea6943fd6"
      },
      "outputs": [
        {
          "name": "stdout",
          "output_type": "stream",
          "text": [
            "65 unique characters\n"
          ]
        }
      ],
      "source": [
        "# The unique characters in the file\n",
        "vocab = sorted(set(text))\n",
        "print(f'{len(vocab)} unique characters')"
      ]
    },
    {
      "cell_type": "code",
      "execution_count": 6,
      "metadata": {
        "colab": {
          "base_uri": "https://localhost:8080/"
        },
        "id": "dp8Pf68CpXXJ",
        "outputId": "378d9942-9f34-43d6-cdb4-83078199f7dd"
      },
      "outputs": [
        {
          "name": "stdout",
          "output_type": "stream",
          "text": [
            "\n",
            "   ! $ & ' , - . 3 : ; ? A B C D E F G H I J K L M N O P Q R S T U V W X Y Z a b c d e f g h i j k l m n o p q r s t u v w x y z "
          ]
        }
      ],
      "source": [
        "\n",
        "# Print unique characters\n",
        "for char in vocab:\n",
        "    print(char, end=' ')"
      ]
    },
    {
      "cell_type": "markdown",
      "metadata": {
        "id": "1sJzZUuCpiu6"
      },
      "source": [
        "olah Teks\n",
        "\n",
        "Vectorize Teks\n",
        "\n",
        "Sebelum training, Anda perlu mengonversi string menjadi representasi numerik. tf.keras.layers.StringLookup dapat mengubah setiap karakter menjadi ID numerik. Caranya adalah teks akan dipecah menjadi token terlebih dahulu."
      ]
    },
    {
      "cell_type": "code",
      "execution_count": 7,
      "metadata": {
        "colab": {
          "base_uri": "https://localhost:8080/"
        },
        "id": "TndF_SUbps7q",
        "outputId": "7ebcec00-5152-4fd8-d456-b7dcc0eb2a21"
      },
      "outputs": [
        {
          "data": {
            "text/plain": [
              "<tf.RaggedTensor [[b'a', b'b', b'c', b'd', b'e', b'f', b'g'], [b'x', b'y', b'z']]>"
            ]
          },
          "execution_count": 7,
          "metadata": {},
          "output_type": "execute_result"
        }
      ],
      "source": [
        "example_texts = ['abcdefg', 'xyz']\n",
        "chars = tf.strings.unicode_split(example_texts, input_encoding='UTF-8')\n",
        "chars"
      ]
    },
    {
      "cell_type": "markdown",
      "metadata": {
        "id": "o7PmP0wrpwLx"
      },
      "source": [
        "kemudian buat tf.keras.layers.StringLookup layer:"
      ]
    },
    {
      "cell_type": "code",
      "execution_count": 8,
      "metadata": {
        "id": "nSqr6z7Fp0uD"
      },
      "outputs": [],
      "source": [
        "\n",
        "ids_from_chars = tf.keras.layers.StringLookup(vocabulary=list(vocab), mask_token=None)"
      ]
    },
    {
      "cell_type": "code",
      "execution_count": 9,
      "metadata": {
        "colab": {
          "base_uri": "https://localhost:8080/"
        },
        "id": "7bq7vUzqp0rn",
        "outputId": "c765726c-f2e6-4449-c7b5-9a9f95f9b9c0"
      },
      "outputs": [
        {
          "data": {
            "text/plain": [
              "<tf.RaggedTensor [[40, 41, 42, 43, 44, 45, 46], [63, 64, 65]]>"
            ]
          },
          "execution_count": 9,
          "metadata": {},
          "output_type": "execute_result"
        }
      ],
      "source": [
        "ids = ids_from_chars(chars)\n",
        "ids\n"
      ]
    },
    {
      "cell_type": "code",
      "execution_count": 10,
      "metadata": {
        "id": "ZY5gn1EEp8CQ"
      },
      "outputs": [],
      "source": [
        "chars_from_ids = tf.keras.layers.StringLookup(\n",
        "    vocabulary=ids_from_chars.get_vocabulary(), invert=True, mask_token=None)"
      ]
    },
    {
      "cell_type": "code",
      "execution_count": 11,
      "metadata": {
        "colab": {
          "base_uri": "https://localhost:8080/"
        },
        "id": "H9u9I2e4qBU9",
        "outputId": "2c9bbb26-f32e-46c2-9995-338d448a1e08"
      },
      "outputs": [
        {
          "data": {
            "text/plain": [
              "<tf.RaggedTensor [[b'a', b'b', b'c', b'd', b'e', b'f', b'g'], [b'x', b'y', b'z']]>"
            ]
          },
          "execution_count": 11,
          "metadata": {},
          "output_type": "execute_result"
        }
      ],
      "source": [
        "\n",
        "chars = chars_from_ids(ids)\n",
        "chars"
      ]
    },
    {
      "cell_type": "code",
      "execution_count": 12,
      "metadata": {
        "colab": {
          "base_uri": "https://localhost:8080/"
        },
        "id": "H77qa8SbqD7r",
        "outputId": "5d0143fe-0530-494b-ff6e-743dcee1ba72"
      },
      "outputs": [
        {
          "data": {
            "text/plain": [
              "array([b'abcdefg', b'xyz'], dtype=object)"
            ]
          },
          "execution_count": 12,
          "metadata": {},
          "output_type": "execute_result"
        }
      ],
      "source": [
        "\n",
        "tf.strings.reduce_join(chars, axis=-1).numpy()"
      ]
    },
    {
      "cell_type": "code",
      "execution_count": 13,
      "metadata": {
        "id": "MDXm0r42qGZ9"
      },
      "outputs": [],
      "source": [
        "def text_from_ids(ids):\n",
        "    return tf.strings.reduce_join(chars_from_ids(ids), axis=-1)"
      ]
    },
    {
      "cell_type": "markdown",
      "metadata": {
        "id": "0WPflQITqJTt"
      },
      "source": [
        "Prediksi\n",
        "\n",
        "Membuat Training Set dan Target"
      ]
    },
    {
      "cell_type": "code",
      "execution_count": 14,
      "metadata": {
        "colab": {
          "base_uri": "https://localhost:8080/"
        },
        "id": "73kylzGkqNzs",
        "outputId": "8aa578e1-d708-4df6-fbb6-ea6f5e19dec3"
      },
      "outputs": [
        {
          "data": {
            "text/plain": [
              "<tf.Tensor: shape=(1115394,), dtype=int64, numpy=array([19, 48, 57, ..., 46,  9,  1])>"
            ]
          },
          "execution_count": 14,
          "metadata": {},
          "output_type": "execute_result"
        }
      ],
      "source": [
        "\n",
        "all_ids = ids_from_chars(tf.strings.unicode_split(text, 'UTF-8'))\n",
        "all_ids"
      ]
    },
    {
      "cell_type": "code",
      "execution_count": 15,
      "metadata": {
        "id": "Mj_BsixZqQN2"
      },
      "outputs": [],
      "source": [
        "\n",
        "ids_dataset = tf.data.Dataset.from_tensor_slices(all_ids)"
      ]
    },
    {
      "cell_type": "code",
      "execution_count": 16,
      "metadata": {
        "colab": {
          "base_uri": "https://localhost:8080/"
        },
        "id": "18iLIcipqTeS",
        "outputId": "5fbc6ab8-cb73-4bec-94c5-ef231cd8caf1"
      },
      "outputs": [
        {
          "name": "stdout",
          "output_type": "stream",
          "text": [
            "F\n",
            "i\n",
            "r\n",
            "s\n",
            "t\n",
            " \n",
            "C\n",
            "i\n",
            "t\n",
            "i\n"
          ]
        }
      ],
      "source": [
        "\n",
        "for ids in ids_dataset.take(10):\n",
        "    print(chars_from_ids(ids).numpy().decode('utf-8'))"
      ]
    },
    {
      "cell_type": "code",
      "execution_count": 17,
      "metadata": {
        "id": "p_MusSReqV7b"
      },
      "outputs": [],
      "source": [
        "\n",
        "seq_length = 100"
      ]
    },
    {
      "cell_type": "markdown",
      "metadata": {
        "id": "QFlcBAs3qYie"
      },
      "source": [
        "Metode batch memungkinkan kita dengan mudah mengonversi karakter individual ini menjadi urutan ukuran yang diinginkan."
      ]
    },
    {
      "cell_type": "code",
      "execution_count": 18,
      "metadata": {
        "colab": {
          "base_uri": "https://localhost:8080/"
        },
        "id": "Z5xUrzBCqc27",
        "outputId": "c9b8433c-9136-4046-82f7-783cfcf452b3"
      },
      "outputs": [
        {
          "name": "stdout",
          "output_type": "stream",
          "text": [
            "tf.Tensor(\n",
            "[b'F' b'i' b'r' b's' b't' b' ' b'C' b'i' b't' b'i' b'z' b'e' b'n' b':'\n",
            " b'\\n' b'B' b'e' b'f' b'o' b'r' b'e' b' ' b'w' b'e' b' ' b'p' b'r' b'o'\n",
            " b'c' b'e' b'e' b'd' b' ' b'a' b'n' b'y' b' ' b'f' b'u' b'r' b't' b'h'\n",
            " b'e' b'r' b',' b' ' b'h' b'e' b'a' b'r' b' ' b'm' b'e' b' ' b's' b'p'\n",
            " b'e' b'a' b'k' b'.' b'\\n' b'\\n' b'A' b'l' b'l' b':' b'\\n' b'S' b'p' b'e'\n",
            " b'a' b'k' b',' b' ' b's' b'p' b'e' b'a' b'k' b'.' b'\\n' b'\\n' b'F' b'i'\n",
            " b'r' b's' b't' b' ' b'C' b'i' b't' b'i' b'z' b'e' b'n' b':' b'\\n' b'Y'\n",
            " b'o' b'u' b' '], shape=(101,), dtype=string)\n"
          ]
        }
      ],
      "source": [
        "sequences = ids_dataset.batch(seq_length+1, drop_remainder=True)\n",
        "\n",
        "for seq in sequences.take(1):\n",
        "  print(chars_from_ids(seq))"
      ]
    },
    {
      "cell_type": "markdown",
      "metadata": {
        "id": "dOQPgK8uqiJk"
      },
      "source": [
        "akan lebih mudah untuk melihat apa yang dilakukan jika Anda menggabungkan token kembali menjadi string:"
      ]
    },
    {
      "cell_type": "code",
      "execution_count": 19,
      "metadata": {
        "colab": {
          "base_uri": "https://localhost:8080/"
        },
        "id": "OSEJ5sg3qkQ4",
        "outputId": "b2a71add-be37-402f-a2bb-1791a78eee3f"
      },
      "outputs": [
        {
          "name": "stdout",
          "output_type": "stream",
          "text": [
            "b'First Citizen:\\nBefore we proceed any further, hear me speak.\\n\\nAll:\\nSpeak, speak.\\n\\nFirst Citizen:\\nYou '\n",
            "b'are all resolved rather to die than to famish?\\n\\nAll:\\nResolved. resolved.\\n\\nFirst Citizen:\\nFirst, you k'\n",
            "b\"now Caius Marcius is chief enemy to the people.\\n\\nAll:\\nWe know't, we know't.\\n\\nFirst Citizen:\\nLet us ki\"\n",
            "b\"ll him, and we'll have corn at our own price.\\nIs't a verdict?\\n\\nAll:\\nNo more talking on't; let it be d\"\n",
            "b'one: away, away!\\n\\nSecond Citizen:\\nOne word, good citizens.\\n\\nFirst Citizen:\\nWe are accounted poor citi'\n"
          ]
        }
      ],
      "source": [
        "\n",
        "for seq in sequences.take(5):\n",
        "    print(text_from_ids(seq).numpy())"
      ]
    },
    {
      "cell_type": "markdown",
      "metadata": {
        "id": "e9EocGhsqrKi"
      },
      "source": [
        "Untuk pelatihan, Anda memerlukan kumpulan data pasangan (input, label). Dimana input dan label merupakan urutan. Pada setiap langkah waktu, inputnya adalah karakter saat ini dan labelnya adalah karakter berikutnya. Berikut adalah fungsi yang mengambil urutan sebagai masukan, menduplikasi, dan menggesernya untuk menyelaraskan masukan dan label untuk setiap langkah waktu:"
      ]
    },
    {
      "cell_type": "code",
      "execution_count": 20,
      "metadata": {
        "id": "F4i8yWAUqttL"
      },
      "outputs": [],
      "source": [
        "\n",
        "def split_input_target(sequence):\n",
        "  input_text = sequence[:-1]\n",
        "  target_text = sequence[1:]\n",
        "  return input_text, target_text"
      ]
    },
    {
      "cell_type": "code",
      "execution_count": 21,
      "metadata": {
        "colab": {
          "base_uri": "https://localhost:8080/"
        },
        "id": "GdC60Yf3qw1R",
        "outputId": "b8ea31cf-224f-4223-8ca8-7a32ec79ad57"
      },
      "outputs": [
        {
          "data": {
            "text/plain": [
              "(['T', 'e', 'n', 's', 'o', 'r', 'f', 'l', 'o'],\n",
              " ['e', 'n', 's', 'o', 'r', 'f', 'l', 'o', 'w'])"
            ]
          },
          "execution_count": 21,
          "metadata": {},
          "output_type": "execute_result"
        }
      ],
      "source": [
        "\n",
        "split_input_target(list(\"Tensorflow\"))"
      ]
    },
    {
      "cell_type": "code",
      "execution_count": 22,
      "metadata": {
        "id": "KRzoiuyoqzvb"
      },
      "outputs": [],
      "source": [
        "\n",
        "dataset = sequences.map(split_input_target)"
      ]
    },
    {
      "cell_type": "code",
      "execution_count": 23,
      "metadata": {
        "colab": {
          "base_uri": "https://localhost:8080/"
        },
        "id": "A_RB-i84q2aX",
        "outputId": "41594af9-3c82-4146-8779-e05d5a06b8a1"
      },
      "outputs": [
        {
          "name": "stdout",
          "output_type": "stream",
          "text": [
            "Input : b'First Citizen:\\nBefore we proceed any further, hear me speak.\\n\\nAll:\\nSpeak, speak.\\n\\nFirst Citizen:\\nYou'\n",
            "Target: b'irst Citizen:\\nBefore we proceed any further, hear me speak.\\n\\nAll:\\nSpeak, speak.\\n\\nFirst Citizen:\\nYou '\n"
          ]
        }
      ],
      "source": [
        "for input_example, target_example in dataset.take(1):\n",
        "  print(\"Input :\", text_from_ids(input_example).numpy())\n",
        "  print(\"Target:\", text_from_ids(target_example).numpy())"
      ]
    },
    {
      "cell_type": "markdown",
      "metadata": {
        "id": "wpyC3Lfdq409"
      },
      "source": [
        "Membuat Batch Training\n",
        "\n",
        "Anda menggunakan tf.data untuk membagi teks menjadi sequence yang dapat diatur. Namun sebelum memasukkan data ini ke dalam model, Anda perlu mengacak data dan mengemasnya ke dalam batch."
      ]
    },
    {
      "cell_type": "code",
      "execution_count": 24,
      "metadata": {
        "colab": {
          "base_uri": "https://localhost:8080/"
        },
        "id": "eh_3rr0Lq9T0",
        "outputId": "0fd51b97-fb87-48a6-a140-c4a4c141d5ad"
      },
      "outputs": [
        {
          "data": {
            "text/plain": [
              "<_PrefetchDataset element_spec=(TensorSpec(shape=(64, 100), dtype=tf.int64, name=None), TensorSpec(shape=(64, 100), dtype=tf.int64, name=None))>"
            ]
          },
          "execution_count": 24,
          "metadata": {},
          "output_type": "execute_result"
        }
      ],
      "source": [
        "# Batch size\n",
        "BATCH_SIZE = 64\n",
        "\n",
        "# Buffer size to shuffle the dataset\n",
        "# (TF data is designed to work with possibly infinite sequences,\n",
        "# so it doesn't attempt to shuffle the entire sequence in memory. Instead,\n",
        "# it maintains a buffer in which it shuffles elements).\n",
        "BUFFER_SIZE = 10000\n",
        "\n",
        "dataset = (\n",
        "    dataset\n",
        "    .shuffle(BUFFER_SIZE)\n",
        "    .batch(BATCH_SIZE, drop_remainder=True)\n",
        "    .prefetch(tf.data.experimental.AUTOTUNE))\n",
        "\n",
        "dataset"
      ]
    },
    {
      "cell_type": "markdown",
      "metadata": {
        "id": "-vJDZHqOrA-D"
      },
      "source": [
        "Membuat Model"
      ]
    },
    {
      "cell_type": "code",
      "execution_count": 25,
      "metadata": {
        "id": "D07ADY4vq_oC"
      },
      "outputs": [],
      "source": [
        "# Length of the vocabulary in StringLookup Layer\n",
        "vocab_size = len(ids_from_chars.get_vocabulary())\n",
        "\n",
        "# The embedding dimension\n",
        "embedding_dim = 256\n",
        "\n",
        "# Number of RNN units\n",
        "rnn_units = 1024\n"
      ]
    },
    {
      "cell_type": "code",
      "execution_count": 26,
      "metadata": {
        "id": "nFQJrvVvrIZ3"
      },
      "outputs": [],
      "source": [
        "class MyModel(tf.keras.Model):\n",
        "  def __init__(self, vocab_size, embedding_dim, rnn_units):\n",
        "    super().__init__(self)\n",
        "    self.embedding = tf.keras.layers.Embedding(vocab_size, embedding_dim)\n",
        "    self.gru = tf.keras.layers.GRU(rnn_units,\n",
        "                                   return_sequences=True,\n",
        "                                   return_state=True)\n",
        "    self.dense = tf.keras.layers.Dense(vocab_size)\n",
        "\n",
        "  def call(self, inputs, states=None, return_state=False, training=False):\n",
        "    x = inputs\n",
        "    x = self.embedding(x, training=training)\n",
        "    if states is None:\n",
        "      states = self.gru.get_initial_state(x)\n",
        "    x, states = self.gru(x, initial_state=states, training=training)\n",
        "    x = self.dense(x, training=training)\n",
        "\n",
        "    if return_state:\n",
        "      return x, states\n",
        "    else:\n",
        "      return x\n"
      ]
    },
    {
      "cell_type": "code",
      "execution_count": 27,
      "metadata": {
        "id": "C6DmNDvArKjG"
      },
      "outputs": [],
      "source": [
        "model = MyModel(\n",
        "    vocab_size=vocab_size,\n",
        "    embedding_dim=embedding_dim,\n",
        "    rnn_units=rnn_units)"
      ]
    },
    {
      "cell_type": "markdown",
      "metadata": {
        "id": "uiz4DeAdrMOC"
      },
      "source": [
        "Uji Model"
      ]
    },
    {
      "cell_type": "code",
      "execution_count": 28,
      "metadata": {
        "colab": {
          "base_uri": "https://localhost:8080/"
        },
        "id": "dzrXbO1OrQZb",
        "outputId": "95c8f4fe-d44b-43cb-d02f-ecb3f9ab2940"
      },
      "outputs": [
        {
          "name": "stdout",
          "output_type": "stream",
          "text": [
            "(64, 100, 66) # (batch_size, sequence_length, vocab_size)\n"
          ]
        }
      ],
      "source": [
        "for input_example_batch, target_example_batch in dataset.take(1):\n",
        "    example_batch_predictions = model(input_example_batch)\n",
        "    print(example_batch_predictions.shape, \"# (batch_size, sequence_length, vocab_size)\")"
      ]
    },
    {
      "cell_type": "code",
      "execution_count": 29,
      "metadata": {
        "colab": {
          "base_uri": "https://localhost:8080/"
        },
        "id": "-v-FtDOYrSzE",
        "outputId": "096a76db-d14b-4c3f-b78b-99e4e80a3466"
      },
      "outputs": [
        {
          "name": "stdout",
          "output_type": "stream",
          "text": [
            "Model: \"my_model\"\n",
            "_________________________________________________________________\n",
            " Layer (type)                Output Shape              Param #   \n",
            "=================================================================\n",
            " embedding (Embedding)       multiple                  16896     \n",
            "                                                                 \n",
            " gru (GRU)                   multiple                  3938304   \n",
            "                                                                 \n",
            " dense (Dense)               multiple                  67650     \n",
            "                                                                 \n",
            "=================================================================\n",
            "Total params: 4022850 (15.35 MB)\n",
            "Trainable params: 4022850 (15.35 MB)\n",
            "Non-trainable params: 0 (0.00 Byte)\n",
            "_________________________________________________________________\n"
          ]
        }
      ],
      "source": [
        "\n",
        "model.summary()"
      ]
    },
    {
      "cell_type": "code",
      "execution_count": 30,
      "metadata": {
        "id": "XZGijCaorWYx"
      },
      "outputs": [],
      "source": [
        "\n",
        "sampled_indices = tf.random.categorical(example_batch_predictions[0],num_samples=1)\n",
        "sampled_indices = tf.squeeze(sampled_indices, axis=-1).numpy()\n"
      ]
    },
    {
      "cell_type": "code",
      "execution_count": 31,
      "metadata": {
        "colab": {
          "base_uri": "https://localhost:8080/"
        },
        "id": "GYQiByzarYt2",
        "outputId": "d65827a5-a1ff-46f0-e5fe-8ff44971d955"
      },
      "outputs": [
        {
          "data": {
            "text/plain": [
              "array([48, 30, 31, 48, 31,  7, 18, 50, 10, 43, 13, 61, 21, 32, 28, 21,  3,\n",
              "       30, 64,  1, 57, 22, 24, 24, 33, 29, 29, 41, 37, 38, 59, 47,  9, 12,\n",
              "       21, 59, 20, 59, 40, 10, 39, 37, 29, 18, 41, 29, 23, 38, 23, 46, 44,\n",
              "       23, 43,  1, 35, 36, 54, 31, 26, 64, 63, 48, 20,  1,  4, 17, 46, 28,\n",
              "        6, 35, 24, 17, 45, 54,  4,  0, 39,  4, 52,  1,  3, 31, 42, 53, 63,\n",
              "       30, 62, 12, 37, 63,  9, 17, 15, 43, 41,  4, 40, 54, 30, 33])"
            ]
          },
          "execution_count": 31,
          "metadata": {},
          "output_type": "execute_result"
        }
      ],
      "source": [
        "\n",
        "sampled_indices"
      ]
    },
    {
      "cell_type": "markdown",
      "metadata": {
        "id": "STcK2eldrbAm"
      },
      "source": [
        "Dekode kode berikut untuk melihat teks yang diprediksi oleh model tidak terlatih ini:"
      ]
    },
    {
      "cell_type": "code",
      "execution_count": 32,
      "metadata": {
        "colab": {
          "base_uri": "https://localhost:8080/"
        },
        "id": "7cY__Gc4rdqP",
        "outputId": "9983fb84-ea50-4ba1-e614-9a6167410a9a"
      },
      "outputs": [
        {
          "name": "stdout",
          "output_type": "stream",
          "text": [
            "Input:\n",
            " b\"ands me much upon,\\nTo stop all hopes whose growth may damage me.\\nI must be married to my brother's d\"\n",
            "\n",
            "Next Char Predictions:\n",
            " b\"iQRiR,Ek3d?vHSOH!Qy\\nrIKKTPPbXYth.;HtGta3ZXPEbPJYJgeJd\\nVWoRMyxiG\\n$DgO'VKDfo$[UNK]Z$m\\n!RcnxQw;Xx.DBdb$aoQT\"\n"
          ]
        }
      ],
      "source": [
        "\n",
        "print(\"Input:\\n\", text_from_ids(input_example_batch[0]).numpy())\n",
        "print()\n",
        "print(\"Next Char Predictions:\\n\", text_from_ids(sampled_indices).numpy())"
      ]
    },
    {
      "cell_type": "markdown",
      "metadata": {
        "id": "bIEvEEFprgx5"
      },
      "source": [
        "### **Train Model**\n",
        "\n",
        "Tambahan optimizer dan fungsi loss<p>\n",
        "\n",
        "loss function tf.keras.losses.sparse_categorical_crossentropy standar berfungsi dalam kasus ini karena diterapkan di seluruh dimensi terakhir prediksi. Karena model Anda mengembalikan logits, Anda perlu mengatur flag from_logits."
      ]
    },
    {
      "cell_type": "code",
      "execution_count": 33,
      "metadata": {
        "id": "WEhpmrSIrl8x"
      },
      "outputs": [],
      "source": [
        "loss = tf.losses.SparseCategoricalCrossentropy(from_logits=True)"
      ]
    },
    {
      "cell_type": "code",
      "execution_count": 34,
      "metadata": {
        "colab": {
          "base_uri": "https://localhost:8080/"
        },
        "id": "6vQrRQy2roWv",
        "outputId": "4fe6a0be-2d3b-4aee-def6-68287165d04b"
      },
      "outputs": [
        {
          "name": "stdout",
          "output_type": "stream",
          "text": [
            "Prediction shape:  (64, 100, 66)  # (batch_size, sequence_length, vocab_size)\n",
            "Mean loss:         tf.Tensor(4.1903577, shape=(), dtype=float32)\n"
          ]
        }
      ],
      "source": [
        "example_batch_mean_loss = loss(target_example_batch, example_batch_predictions)\n",
        "print(\"Prediction shape: \", example_batch_predictions.shape, \" # (batch_size, sequence_length, vocab_size)\")\n",
        "print(\"Mean loss:        \", example_batch_mean_loss)\n"
      ]
    },
    {
      "cell_type": "markdown",
      "metadata": {
        "id": "DtG_mI_lrqsC"
      },
      "source": [
        "Model yang baru diinisialisasi tidak boleh terlalu yakin dengan dirinya sendiri, semua log keluaran harus memiliki besaran yang sama. Untuk mengonfirmasi hal ini, Anda dapat memeriksa bahwa eksponensial dari loss rata-rata harus kira-kira sama dengan ukuran kosakata. Loss yang jauh lebih tinggi berarti model tersebut yakin akan jawaban yang salah, dan memiliki inisialisasi yang buruk:"
      ]
    },
    {
      "cell_type": "code",
      "execution_count": 35,
      "metadata": {
        "colab": {
          "base_uri": "https://localhost:8080/"
        },
        "id": "fuSW1aiirsyW",
        "outputId": "299b9cc4-7015-41a1-9af1-e3f9cff24384"
      },
      "outputs": [
        {
          "data": {
            "text/plain": [
              "66.04642"
            ]
          },
          "execution_count": 35,
          "metadata": {},
          "output_type": "execute_result"
        }
      ],
      "source": [
        "\n",
        "tf.exp(example_batch_mean_loss).numpy()"
      ]
    },
    {
      "cell_type": "markdown",
      "metadata": {
        "id": "8Fc4lBWkrvV3"
      },
      "source": [
        "Konfigurasikan prosedur pelatihan menggunakan metode tf.keras.Model.compile. Gunakan tf.keras.optimizers.Adam dengan argumen default dan fungsi loss."
      ]
    },
    {
      "cell_type": "code",
      "execution_count": 36,
      "metadata": {
        "id": "jnGYrAQ5rxNU"
      },
      "outputs": [],
      "source": [
        "\n",
        "model.compile(optimizer='adam', loss=loss)"
      ]
    },
    {
      "cell_type": "markdown",
      "metadata": {
        "id": "RD8-WonFr0EQ"
      },
      "source": [
        "Konfigurasi Checkpoints<p>\n",
        "Gunakan tf.keras.callbacks.ModelCheckpoint untuk memastikan bahwa checkpoint disimpan selama pelatihan:"
      ]
    },
    {
      "cell_type": "code",
      "execution_count": 37,
      "metadata": {
        "id": "YpmA-Ncxr3nE"
      },
      "outputs": [],
      "source": [
        "# Directory where the checkpoints will be saved\n",
        "checkpoint_dir = './training_checkpoints'\n",
        "# Name of the checkpoint files\n",
        "checkpoint_prefix = os.path.join(checkpoint_dir, \"ckpt_{epoch}\")\n",
        "\n",
        "checkpoint_callback = tf.keras.callbacks.ModelCheckpoint(\n",
        "    filepath=checkpoint_prefix,\n",
        "    save_weights_only=True)\n"
      ]
    },
    {
      "cell_type": "markdown",
      "metadata": {
        "id": "FFTJWDB8r6Di"
      },
      "source": [
        "Lakukan Proses Training"
      ]
    },
    {
      "cell_type": "code",
      "execution_count": 38,
      "metadata": {
        "colab": {
          "base_uri": "https://localhost:8080/"
        },
        "id": "JAqUQUZCr7lR",
        "outputId": "1cf3111d-1122-4190-b434-586630e33cfd"
      },
      "outputs": [
        {
          "name": "stdout",
          "output_type": "stream",
          "text": [
            "Epoch 1/10\n",
            "172/172 [==============================] - 15s 54ms/step - loss: 2.7259\n",
            "Epoch 2/10\n",
            "172/172 [==============================] - 13s 55ms/step - loss: 1.9889\n",
            "Epoch 3/10\n",
            "172/172 [==============================] - 12s 55ms/step - loss: 1.7143\n",
            "Epoch 4/10\n",
            "172/172 [==============================] - 12s 59ms/step - loss: 1.5549\n",
            "Epoch 5/10\n",
            "172/172 [==============================] - 13s 57ms/step - loss: 1.4563\n",
            "Epoch 6/10\n",
            "172/172 [==============================] - 11s 57ms/step - loss: 1.3883\n",
            "Epoch 7/10\n",
            "172/172 [==============================] - 12s 57ms/step - loss: 1.3358\n",
            "Epoch 8/10\n",
            "172/172 [==============================] - 12s 56ms/step - loss: 1.2920\n",
            "Epoch 9/10\n",
            "172/172 [==============================] - 11s 56ms/step - loss: 1.2513\n",
            "Epoch 10/10\n",
            "172/172 [==============================] - 11s 56ms/step - loss: 1.2124\n"
          ]
        }
      ],
      "source": [
        "EPOCHS = 10\n",
        "history = model.fit(dataset, epochs=EPOCHS, callbacks=[checkpoint_callback])"
      ]
    },
    {
      "cell_type": "markdown",
      "metadata": {
        "id": "e8sZbFFxsDM-"
      },
      "source": [
        "Generate Teks<p>\n",
        "\n",
        "Berikut ini membuat prediksi satu langkah:"
      ]
    },
    {
      "cell_type": "code",
      "execution_count": 40,
      "metadata": {
        "id": "6QIyjnK5sGj3"
      },
      "outputs": [],
      "source": [
        "class OneStep(tf.keras.Model):\n",
        "  def __init__(self, model, chars_from_ids, ids_from_chars, temperature=1.0):\n",
        "    super().__init__()\n",
        "    self.temperature = temperature\n",
        "    self.model = model\n",
        "    self.chars_from_ids = chars_from_ids\n",
        "    self.ids_from_chars = ids_from_chars\n",
        "\n",
        "    # Create a mask to prevent \"[UNK]\" from being generated.\n",
        "    skip_ids = self.ids_from_chars(['[UNK]'])[:, None]\n",
        "    sparse_mask = tf.SparseTensor(\n",
        "        # Put a -inf at each bad index.\n",
        "        values=[-float('inf')]*len(skip_ids),\n",
        "        indices=skip_ids,\n",
        "        # Match the shape to the vocabulary\n",
        "        dense_shape=[len(ids_from_chars.get_vocabulary())])\n",
        "    self.prediction_mask = tf.sparse.to_dense(sparse_mask)\n",
        "\n",
        "  @tf.function\n",
        "  def generate_one_step(self, inputs, states=None):\n",
        "    # Convert strings to token IDs.\n",
        "    input_chars = tf.strings.unicode_split(inputs, 'UTF-8')\n",
        "    input_ids = self.ids_from_chars(input_chars).to_tensor()\n",
        "\n",
        "    # Run the model.\n",
        "    # predicted_logits.shape is [batch, char, next_char_logits]\n",
        "    predicted_logits, states = self.model(inputs=input_ids, states=states,\n",
        "                                          return_state=True)\n",
        "    # Only use the last prediction.\n",
        "    predicted_logits = predicted_logits[:, -1, :]\n",
        "    predicted_logits = predicted_logits/self.temperature\n",
        "    # Apply the prediction mask: prevent \"[UNK]\" from being generated.\n",
        "    predicted_logits = predicted_logits + self.prediction_mask\n",
        "\n",
        "    # Sample the output logits to generate token IDs.\n",
        "    predicted_ids = tf.random.categorical(predicted_logits, num_samples=1)\n",
        "    predicted_ids = tf.squeeze(predicted_ids, axis=-1)\n",
        "\n",
        "    # Convert from token ids to characters\n",
        "    predicted_chars = self.chars_from_ids(predicted_ids)\n",
        "\n",
        "    # Return the characters and model state.\n",
        "    return predicted_chars, states"
      ]
    },
    {
      "cell_type": "code",
      "execution_count": 41,
      "metadata": {
        "id": "hToII-X0sIe8"
      },
      "outputs": [],
      "source": [
        "one_step_model = OneStep(model, chars_from_ids, ids_from_chars)"
      ]
    },
    {
      "cell_type": "code",
      "execution_count": 42,
      "metadata": {
        "colab": {
          "base_uri": "https://localhost:8080/"
        },
        "id": "OzIiJubhsLF4",
        "outputId": "0ea3464e-48eb-4a6b-abfa-2f46dbfb9eaa"
      },
      "outputs": [
        {
          "name": "stdout",
          "output_type": "stream",
          "text": [
            "ROMEO:\n",
            "At all thas man please misery desires;\n",
            "Not need, ahe wording, so unnatural,\n",
            "Not in Scotland that our agfardied of my chamber:\n",
            "Terthing my Tisit, tere worse than in arguse you\n",
            "Have him to thy halve exjust all Strength your grand as\n",
            "any toil, and here, for all the world:\n",
            "Her noish that fair forgetchy of angul home:\n",
            "Such a maid that subjects better last our twoll\n",
            "And wit in opposited at itis to lief\n",
            "That our good grace uncle, drabs as an heig\n",
            "On yours to you; became the devouches treason\n",
            "And pass your hand and glass.\n",
            "\n",
            "HORTENSIO:\n",
            "All that to court it: so was touchet\n",
            "A baid fasting buried abbost forgivene,\n",
            "Slaughter'd, that wherees thou wert not\n",
            "Jain. Now makes three off,\n",
            "Which more thing shall they assured.\n",
            "\n",
            "KATHARINA:\n",
            "For we are the thing is obded's commission.\n",
            "God gave your father judges, or it\n",
            "not be adophent, murder all,\n",
            "Ere whet he makes lost.\n",
            "\n",
            "DUKE OF AUMERLE:\n",
            "My affarp in my duty.\n",
            "\n",
            "LUCENTIO:\n",
            "I cannot test;\n",
            "And were in heavy bland's tender: no doubts\n",
            "Sent more your grage more villai \n",
            "\n",
            "________________________________________________________________________________\n",
            "\n",
            "Run time: 4.820003986358643\n"
          ]
        }
      ],
      "source": [
        "start = time.time()\n",
        "states = None\n",
        "next_char = tf.constant(['ROMEO:'])\n",
        "result = [next_char]\n",
        "\n",
        "for n in range(1000):\n",
        "  next_char, states = one_step_model.generate_one_step(next_char, states=states)\n",
        "  result.append(next_char)\n",
        "\n",
        "result = tf.strings.join(result)\n",
        "end = time.time()\n",
        "print(result[0].numpy().decode('utf-8'), '\\n\\n' + '_'*80)\n",
        "print('\\nRun time:', end - start)"
      ]
    },
    {
      "cell_type": "code",
      "execution_count": 43,
      "metadata": {
        "colab": {
          "base_uri": "https://localhost:8080/"
        },
        "id": "zv4u765nsOBQ",
        "outputId": "17cb71f4-e361-458c-e251-055ba8e0ce1b"
      },
      "outputs": [
        {
          "name": "stdout",
          "output_type": "stream",
          "text": [
            "tf.Tensor(\n",
            "[b\"ROMEO:\\n\\nCOMINIUS:\\nThey looks upon, being soon,\\nWe forget me in him to-morrow.\\n\\nROMEO:\\nKnow this purpose! Foul away with, bestoid,\\nI have between your honours and to revenge.\\nI will, to what he waked, such a beauty's grave:\\nAnd burnt is Aufured with breath, the lightning Hasting on the like acquidental\\nShould convey our behelf, and began: this brother,\\nFor Marcius is their Rutland, by o'rignt of ma;\\nFor now, were they belitent against your country's heart\\nTo lay a lossary.\\n\\nGRUMIO:\\nYet she hate been only to all the issue:\\nWhen she comes are so much begot thee,\\nAnd he slaught himself,\\nHow now my soul is warrant? what doth do?\\n\\nTYBALLA:\\nIn he age:\\nGo Intoshing him.\\n\\nFirst Citizen:\\nThat's not to death, and tent thee on his place.\\n\\nKING EDWARD IV:\\nIs that accept of hands?\\nNow, Plough we decket themselves,\\nBenoves and if war in plainles' leave:\\nWhich blood in law will sway to this surplicies is\\nMequites with thee a minoture, but\\nthat I say sir, in a cuase a king\\nHath pass both sons ofex or unwilli\"\n",
            " b\"ROMEO:\\nFor, but not by Plantagenet, and plegging wither two suspisits,\\nYour mistence once do sing, and home before I stone\\nAs landal soldiers, hath deaded well-spreent's\\npussing with assurance of heavier. Was it,\\nAs if the upperring out, what far old Bolingbroke,\\nBut full our saulting harst reason I'll buy flesh,\\nThat it your title enough!\\nI hope like gold ally man\\nSo stoned and musiciant thing in hand:\\nI may play forgive, for I can,--\\n\\nKING WICHENRY VI\\n\\nWARWICK:\\nIf I began the greated plague in foeling blood.\\nCalleadical back to be thus first sorrow. Your hearts have weary\\nagainst himself, I hope, in our lands.\\n\\nCLIFFORD:\\nShe lay the Lary Richard, and be call'd thee.\\n\\nROMEO:\\nWe are we calm. You, sir, then, help you quicket, speak:\\nO here are come to fled, I had slain peace.\\n\\nNurse:\\nHap too returned, I have say myself: sir,\\nHe does, such all sorrow'd eye-datcle: holy in your insuration,\\nWill appear those is our ancien' turn and there:\\nSo much look parusage nor lay her, slander And but work:\\n\"\n",
            " b\"ROMEO:\\n\\nGLOUCESTER:\\nWhy, this: I he retarn unand love withal:\\nHave your is too lacket here to me.\\nI do rebived the mind, that bailis, saver\\nand pristain'd prince growers are: nay, and they renised.\\nUpon the Lords, Righawn of the hand and not his threatenus\\nMust push Plague, that, are punish'd by thines\\ncombounds: that he will ingentune behold\\nThat should be your. A scorners on my counsel,\\nHave eyes in safety lies: thou fow'st the husband\\nThat I be sought of this cold back of that line\\nwill rive his knee: both masters, and leave you.\\nHere comes the greater thangs, so ruin'd fates.\\nBut divine grantful such boy? as continut flesh and passing\\nLarished and speed gnowing to plucking his ampition\\nLives into my time hath knows\\nBeseech your chain between aumier than stands.\\nHow for thee the meat out the heavens, Istands slaughter'd\\nTo hate and years and bases one warm.\\n\\nKING RICHARD III:\\nLook your honour to sear;\\nAnd where she comes are all the lands.\\n\\nGONZALO:\\nDie those welcome sir.\\nStands and so re\"\n",
            " b\"ROMEO:\\nWell, let us peril he goodly office\\nTo alse this? Gear vile princess,\\nStand forbid with an robren Englosh: sleep in happy burial,\\nAnd her work'd a grand with angellors offend your\\nstiffical estates, rightly and\\nAgainst a brief wars but like\\na most bite the clippose in her worship in\\nthe shadows say and though my saint?\\nI tell thou wilt nor fair man's death!\\n\\nLUCENTIO:\\nI know not we to clappy use to years hardons\\nThat to me together.\\n\\nBRUTUS:\\n'Zould not accomplane you?\\n\\nCOMINIUS:\\nThat was my blest and so so deagh, so stay, my house:\\nThe tedious tench attendate your evil days,\\nAnd blow follows upon and twenty, unfeirt,\\nAnd all his finger under those branches?\\nThey least have made your joys are draw in your\\ndreads: and, retuce with minding\\nAnon in oriblo about the field\\nAdward and labour's instried walls?\\n\\nLUCIO:\\nMy liege, hark! how plainly then renown'd provixtship to the earth.\\n\\nKING EDWARD IV:\\nAy, wherein your highnesses with his village, sir, now can say 'He were set on him. And all \"\n",
            " b\"ROMEO:\\nAway with a creature, ghatiff loving friend, possess!\\nTo wing Gidiganes' hangman: he think, by and old\\nOffer'd, you have moody widow; yet you\\nHave done so; and be gladly but a feasts of thing their man!\\nAnd spy unto thy sword? O, my tell; me to all the lands are gull the alter\\nAs in his painces were in heed.\\nTo welcome than this live puriol on me,\\nIn rages write and children of this wellown\\nas sweets are complain; let please it blood to pervorp thee in his with a church?\\nOur enemies is that flames. This is the made\\nWithout succeedet faith'd their dung. Happy toulded,\\nWere to the malice of him as bolingbass,\\nThing is the white repossion closed,\\nTo all the livis-with one that infant must bebe\\nAs execured would be constance:\\nYea, a rulbo migdle to a sidely shame:\\nKatharina, account the Lord more squirer caffly\\nStand by his grave shame in thee; and in\\nthis only inkateful motion! wask, that his troicl\\nAs her should consibred itself; and so much\\nby bages hern looking only believed.\\n\\nmetinsa\"], shape=(5,), dtype=string) \n",
            "\n",
            "________________________________________________________________________________\n",
            "\n",
            "Run time: 4.03441309928894\n"
          ]
        }
      ],
      "source": [
        "start = time.time()\n",
        "states = None\n",
        "next_char = tf.constant(['ROMEO:', 'ROMEO:', 'ROMEO:', 'ROMEO:', 'ROMEO:'])\n",
        "result = [next_char]\n",
        "\n",
        "for n in range(1000):\n",
        "  next_char, states = one_step_model.generate_one_step(next_char, states=states)\n",
        "  result.append(next_char)\n",
        "\n",
        "result = tf.strings.join(result)\n",
        "end = time.time()\n",
        "print(result, '\\n\\n' + '_'*80)\n",
        "print('\\nRun time:', end - start)"
      ]
    },
    {
      "cell_type": "markdown",
      "metadata": {
        "id": "D6bVTZKcsQgs"
      },
      "source": [
        "Ekspor Model Generator"
      ]
    },
    {
      "cell_type": "code",
      "execution_count": 44,
      "metadata": {
        "colab": {
          "base_uri": "https://localhost:8080/"
        },
        "id": "gWcg3d0TsS6O",
        "outputId": "219f64c6-5a1a-4e2d-9b4c-b2efe93bfe30"
      },
      "outputs": [
        {
          "name": "stderr",
          "output_type": "stream",
          "text": [
            "WARNING:tensorflow:Skipping full serialization of Keras layer <__main__.OneStep object at 0x7bb460e8fcd0>, because it is not built.\n",
            "WARNING:tensorflow:Model's `__init__()` arguments contain non-serializable objects. Please implement a `get_config()` method in the subclassed Model for proper saving and loading. Defaulting to empty config.\n",
            "WARNING:tensorflow:Model's `__init__()` arguments contain non-serializable objects. Please implement a `get_config()` method in the subclassed Model for proper saving and loading. Defaulting to empty config.\n"
          ]
        }
      ],
      "source": [
        "tf.saved_model.save(one_step_model, 'one_step')\n",
        "one_step_reloaded = tf.saved_model.load('one_step')"
      ]
    },
    {
      "cell_type": "code",
      "execution_count": 45,
      "metadata": {
        "colab": {
          "base_uri": "https://localhost:8080/"
        },
        "id": "aKVK-r7usUlz",
        "outputId": "352db259-e4b3-4c30-9ffe-64b209585ba1"
      },
      "outputs": [
        {
          "name": "stdout",
          "output_type": "stream",
          "text": [
            "ROMEO:\n",
            "It is along.\n",
            "\n",
            "GREGORY:\n",
            "The one of its e'er counted, fair! O, believe me;\n",
            "Granion breathe my wife to\n"
          ]
        }
      ],
      "source": [
        "states = None\n",
        "next_char = tf.constant(['ROMEO:'])\n",
        "result = [next_char]\n",
        "\n",
        "for n in range(100):\n",
        "  next_char, states = one_step_reloaded.generate_one_step(next_char, states=states)\n",
        "  result.append(next_char)\n",
        "\n",
        "print(tf.strings.join(result)[0].numpy().decode(\"utf-8\"))\n"
      ]
    },
    {
      "cell_type": "markdown",
      "metadata": {
        "id": "H3gu13D-ssAW"
      },
      "source": [
        "-----\n",
        "Tugas"
      ]
    },
    {
      "cell_type": "code",
      "execution_count": 46,
      "metadata": {
        "id": "bM9r4DJZsvFS"
      },
      "outputs": [],
      "source": [
        "\n",
        "class CustomTraining(MyModel):\n",
        "  @tf.function\n",
        "  def train_step(self, inputs):\n",
        "    inputs, labels = inputs\n",
        "    with tf.GradientTape() as tape:\n",
        "      predictions = self(inputs, training=True)\n",
        "      loss = self.loss(labels, predictions)\n",
        "      grads = tape.gradient(loss, model.trainable_variables)\n",
        "      self.optimizer.apply_gradients(zip(grads, model.trainable_variables))\n",
        "\n",
        "      return {'loss': loss}"
      ]
    },
    {
      "cell_type": "code",
      "execution_count": 47,
      "metadata": {
        "id": "o-XO2DGysxNt"
      },
      "outputs": [],
      "source": [
        "model = CustomTraining(\n",
        "    vocab_size=len(ids_from_chars.get_vocabulary()),\n",
        "    embedding_dim=embedding_dim,\n",
        "    rnn_units=rnn_units)"
      ]
    },
    {
      "cell_type": "code",
      "execution_count": 48,
      "metadata": {
        "id": "pz-GX1zOszKz"
      },
      "outputs": [],
      "source": [
        "model.compile(optimizer = tf.keras.optimizers.Adam(), loss=tf.keras.losses.SparseCategoricalCrossentropy(from_logits=True))"
      ]
    },
    {
      "cell_type": "code",
      "execution_count": 49,
      "metadata": {
        "colab": {
          "base_uri": "https://localhost:8080/"
        },
        "id": "YhqIxNvFs-4Y",
        "outputId": "f3d1dc5d-486f-4d2b-b5e5-3c7d25914b4e"
      },
      "outputs": [
        {
          "name": "stdout",
          "output_type": "stream",
          "text": [
            "172/172 [==============================] - 14s 53ms/step - loss: 2.6877\n"
          ]
        },
        {
          "data": {
            "text/plain": [
              "<keras.src.callbacks.History at 0x7bb3ec19b8b0>"
            ]
          },
          "execution_count": 49,
          "metadata": {},
          "output_type": "execute_result"
        }
      ],
      "source": [
        "model.fit(dataset, epochs=1)"
      ]
    },
    {
      "cell_type": "code",
      "execution_count": 50,
      "metadata": {
        "colab": {
          "base_uri": "https://localhost:8080/"
        },
        "id": "lGwHLE94tEdQ",
        "outputId": "249a6455-0b10-41dd-a934-02703e8129c0"
      },
      "outputs": [
        {
          "name": "stdout",
          "output_type": "stream",
          "text": [
            "Epoch 1 Batch 0 Loss 2.1966\n",
            "Epoch 1 Batch 50 Loss 2.0054\n",
            "Epoch 1 Batch 100 Loss 1.9438\n",
            "Epoch 1 Batch 150 Loss 1.8724\n",
            "\n",
            "Epoch 1 Loss: 1.9682\n",
            "Time taken for 1 epoch 13.53 sec\n",
            "________________________________________________________________________________\n",
            "Epoch 2 Batch 0 Loss 1.7947\n",
            "Epoch 2 Batch 50 Loss 1.7182\n",
            "Epoch 2 Batch 100 Loss 1.7177\n",
            "Epoch 2 Batch 150 Loss 1.6243\n",
            "\n",
            "Epoch 2 Loss: 1.6896\n",
            "Time taken for 1 epoch 20.48 sec\n",
            "________________________________________________________________________________\n",
            "Epoch 3 Batch 0 Loss 1.5815\n",
            "Epoch 3 Batch 50 Loss 1.5386\n",
            "Epoch 3 Batch 100 Loss 1.5317\n",
            "Epoch 3 Batch 150 Loss 1.4840\n",
            "\n",
            "Epoch 3 Loss: 1.5334\n",
            "Time taken for 1 epoch 13.20 sec\n",
            "________________________________________________________________________________\n",
            "Epoch 4 Batch 0 Loss 1.5199\n",
            "Epoch 4 Batch 50 Loss 1.4618\n",
            "Epoch 4 Batch 100 Loss 1.4445\n",
            "Epoch 4 Batch 150 Loss 1.4345\n",
            "\n",
            "Epoch 4 Loss: 1.4361\n",
            "Time taken for 1 epoch 20.48 sec\n",
            "________________________________________________________________________________\n",
            "Epoch 5 Batch 0 Loss 1.2980\n",
            "Epoch 5 Batch 50 Loss 1.4401\n",
            "Epoch 5 Batch 100 Loss 1.3653\n",
            "Epoch 5 Batch 150 Loss 1.4006\n",
            "\n",
            "Epoch 5 Loss: 1.3708\n",
            "Time taken for 1 epoch 11.19 sec\n",
            "________________________________________________________________________________\n",
            "Epoch 6 Batch 0 Loss 1.3233\n",
            "Epoch 6 Batch 50 Loss 1.2863\n",
            "Epoch 6 Batch 100 Loss 1.3227\n",
            "Epoch 6 Batch 150 Loss 1.3135\n",
            "\n",
            "Epoch 6 Loss: 1.3193\n",
            "Time taken for 1 epoch 12.83 sec\n",
            "________________________________________________________________________________\n",
            "Epoch 7 Batch 0 Loss 1.2439\n",
            "Epoch 7 Batch 50 Loss 1.2896\n",
            "Epoch 7 Batch 100 Loss 1.2785\n",
            "Epoch 7 Batch 150 Loss 1.2452\n",
            "\n",
            "Epoch 7 Loss: 1.2751\n",
            "Time taken for 1 epoch 10.93 sec\n",
            "________________________________________________________________________________\n",
            "Epoch 8 Batch 0 Loss 1.2233\n",
            "Epoch 8 Batch 50 Loss 1.2257\n",
            "Epoch 8 Batch 100 Loss 1.2249\n",
            "Epoch 8 Batch 150 Loss 1.2075\n",
            "\n",
            "Epoch 8 Loss: 1.2329\n",
            "Time taken for 1 epoch 11.43 sec\n",
            "________________________________________________________________________________\n",
            "Epoch 9 Batch 0 Loss 1.1746\n",
            "Epoch 9 Batch 50 Loss 1.2248\n",
            "Epoch 9 Batch 100 Loss 1.1737\n",
            "Epoch 9 Batch 150 Loss 1.2101\n",
            "\n",
            "Epoch 9 Loss: 1.1919\n",
            "Time taken for 1 epoch 20.47 sec\n",
            "________________________________________________________________________________\n",
            "Epoch 10 Batch 0 Loss 1.1337\n",
            "Epoch 10 Batch 50 Loss 1.1432\n",
            "Epoch 10 Batch 100 Loss 1.1146\n",
            "Epoch 10 Batch 150 Loss 1.1563\n",
            "\n",
            "Epoch 10 Loss: 1.1518\n",
            "Time taken for 1 epoch 11.81 sec\n",
            "________________________________________________________________________________\n"
          ]
        }
      ],
      "source": [
        "EPOCHS = 10\n",
        "\n",
        "mean = tf.metrics.Mean()\n",
        "\n",
        "for epoch in range(EPOCHS):\n",
        "  start = time.time()\n",
        "\n",
        "  mean.reset_states()\n",
        "  for (batch_n, (inp, target)) in enumerate(dataset):\n",
        "    logs = model.train_step([inp, target])\n",
        "    mean.update_state(logs['loss'])\n",
        "\n",
        "    if batch_n % 50 == 0:\n",
        "      template = f\"Epoch {epoch+1} Batch {batch_n} Loss {logs['loss']:.4f}\"\n",
        "      print(template)\n",
        "\n",
        "  # saving (checkpoint) the model every 5 epochs\n",
        "  if (epoch + 1) % 5 == 0:\n",
        "    model.save_weights(checkpoint_prefix.format(epoch=epoch))\n",
        "\n",
        "  print()\n",
        "  print(f'Epoch {epoch+1} Loss: {mean.result().numpy():.4f}')\n",
        "  print(f'Time taken for 1 epoch {time.time() - start:.2f} sec')\n",
        "  print(\"_\"*80)\n",
        "\n",
        "model.save_weights(checkpoint_prefix.format(epoch=epoch))"
      ]
    }
  ],
  "metadata": {
    "accelerator": "GPU",
    "colab": {
      "gpuType": "T4",
      "provenance": []
    },
    "kernelspec": {
      "display_name": "Python 3",
      "name": "python3"
    },
    "language_info": {
      "codemirror_mode": {
        "name": "ipython",
        "version": 3
      },
      "file_extension": ".py",
      "mimetype": "text/x-python",
      "name": "python",
      "nbconvert_exporter": "python",
      "pygments_lexer": "ipython3",
      "version": "3.11.4"
    }
  },
  "nbformat": 4,
  "nbformat_minor": 0
}
