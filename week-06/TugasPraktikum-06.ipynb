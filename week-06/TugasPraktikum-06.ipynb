{
 "cells": [
  {
   "cell_type": "markdown",
   "metadata": {},
   "source": [
    "# Tugas"
   ]
  },
  {
   "cell_type": "markdown",
   "metadata": {},
   "source": [
    "### Tugas 1\n",
    "Terdapat dataset mushroom. Berdasarkan dataset yang tersebut, bandingkan peforma antara algoritma Decision Tree dan RandomForest. Gunakan tunning hyperparameter untuk mendapatkan parameter dan akurasi yang terbaik.\n",
    "### Tugas 2\n",
    "Terdapat dataset mushroom. Berdasarkan dataset tersebut, bandingkan peforma antara algoritma Decision Tree dan AdaBoost. Gunakan tunning hyperparameter untuk mendapatkan parameter dan akurasi yang terbaik.\n",
    "### Tugas 3\n",
    "Dengan menggunakan dataset diabetes, buatlah ensemble voting dengan algoritma\n",
    "Logistic Regression\n",
    "SVM kernel polynomial\n",
    "Decission Tree\n",
    "Anda boleh melakukan eksplorasi dengan melakukan tunning hyperparameter."
   ]
  },
  {
   "cell_type": "markdown",
   "metadata": {},
   "source": [
    "### JAWABAN"
   ]
  },
  {
   "cell_type": "markdown",
   "metadata": {},
   "source": [
    "### Tugas 1\n"
   ]
  },
  {
   "cell_type": "code",
   "execution_count": 8,
   "metadata": {},
   "outputs": [],
   "source": [
    "import pandas as pd\n",
    "from sklearn.model_selection import train_test_split\n",
    "from sklearn.preprocessing import LabelEncoder\n",
    "\n",
    "# Baca dataset mushroom\n",
    "url = \"data/mushrooms.csv\"\n",
    "column_names = [\"class\", \"cap-shape\", \"cap-surface\", \"cap-color\", \"bruises\", \"odor\", \"gill-attachment\", \"gill-spacing\",\n",
    "                \"gill-size\", \"gill-color\", \"stalk-shape\", \"stalk-root\", \"stalk-surface-above-ring\", \"stalk-surface-below-ring\",\n",
    "                \"stalk-color-above-ring\", \"stalk-color-below-ring\", \"veil-type\", \"veil-color\", \"ring-number\", \"ring-type\",\n",
    "                \"spore-print-color\", \"population\", \"habitat\"]\n",
    "\n",
    "data = pd.read_csv(url, header=None, names=column_names)\n",
    "\n",
    "# Lakukan encoding untuk atribut kategorikal\n",
    "label_encoder = LabelEncoder()\n",
    "for col in data.columns:\n",
    "    data[col] = label_encoder.fit_transform(data[col])\n",
    "\n",
    "# Pisahkan atribut dan label\n",
    "X = data.drop(\"class\", axis=1)\n",
    "y = data[\"class\"]\n",
    "\n",
    "# Bagi dataset menjadi data latih (train) dan data uji (test)\n",
    "X_train, X_test, y_train, y_test = train_test_split(X, y, test_size=0.3, random_state=42)\n"
   ]
  },
  {
   "cell_type": "code",
   "execution_count": 9,
   "metadata": {},
   "outputs": [
    {
     "name": "stdout",
     "output_type": "stream",
     "text": [
      "Akurasi Decision Tree: 0.9995898277276456\n",
      "Parameter terbaik Decision Tree: {'criterion': 'gini', 'max_depth': None, 'min_samples_leaf': 1, 'min_samples_split': 2}\n"
     ]
    }
   ],
   "source": [
    "from sklearn.tree import DecisionTreeClassifier\n",
    "from sklearn.metrics import accuracy_score\n",
    "from sklearn.model_selection import GridSearchCV\n",
    "\n",
    "# Inisialisasi model Decision Tree\n",
    "decision_tree = DecisionTreeClassifier(random_state=42)\n",
    "\n",
    "# Definisikan hiperparameter yang akan diuji\n",
    "param_grid = {\n",
    "    'criterion': ['gini', 'entropy'],\n",
    "    'max_depth': [None, 10, 20, 30, 40, 50],\n",
    "    'min_samples_split': [2, 5, 10],\n",
    "    'min_samples_leaf': [1, 2, 4]\n",
    "}\n",
    "\n",
    "# Inisialisasi GridSearchCV\n",
    "grid_search = GridSearchCV(estimator=decision_tree, param_grid=param_grid, cv=5, scoring='accuracy')\n",
    "\n",
    "# Melatih model Decision Tree dengan penyetelan hiperparameter\n",
    "grid_search.fit(X_train, y_train)\n",
    "\n",
    "# Mendapatkan parameter terbaik\n",
    "best_decision_tree = grid_search.best_estimator_\n",
    "\n",
    "# Menggunakan model terbaik untuk melakukan prediksi\n",
    "y_pred_dt = best_decision_tree.predict(X_test)\n",
    "\n",
    "# Mengukur akurasi model Decision Tree\n",
    "accuracy_dt = accuracy_score(y_test, y_pred_dt)\n",
    "\n",
    "print(\"Akurasi Decision Tree:\", accuracy_dt)\n",
    "print(\"Parameter terbaik Decision Tree:\", grid_search.best_params_)\n"
   ]
  },
  {
   "cell_type": "code",
   "execution_count": 10,
   "metadata": {},
   "outputs": [
    {
     "name": "stdout",
     "output_type": "stream",
     "text": [
      "Akurasi Random Forest: 0.9995898277276456\n",
      "Parameter terbaik Random Forest: {'criterion': 'gini', 'max_depth': None, 'min_samples_leaf': 1, 'min_samples_split': 2, 'n_estimators': 50}\n"
     ]
    }
   ],
   "source": [
    "from sklearn.ensemble import RandomForestClassifier\n",
    "\n",
    "# Inisialisasi model Random Forest\n",
    "random_forest = RandomForestClassifier(random_state=42)\n",
    "\n",
    "# Definisikan hiperparameter yang akan diuji\n",
    "param_grid_rf = {\n",
    "    'n_estimators': [50, 100, 200],\n",
    "    'max_depth': [None, 10, 20, 30, 40, 50],\n",
    "    'min_samples_split': [2, 5, 10],\n",
    "    'min_samples_leaf': [1, 2, 4],\n",
    "    'criterion': ['gini', 'entropy']\n",
    "}\n",
    "\n",
    "# Inisialisasi GridSearchCV\n",
    "grid_search_rf = GridSearchCV(estimator=random_forest, param_grid=param_grid_rf, cv=5, scoring='accuracy')\n",
    "\n",
    "# Melatih model Random Forest dengan penyetelan hiperparameter\n",
    "grid_search_rf.fit(X_train, y_train)\n",
    "\n",
    "# Mendapatkan parameter terbaik\n",
    "best_random_forest = grid_search_rf.best_estimator_\n",
    "\n",
    "# Menggunakan model terbaik untuk melakukan prediksi\n",
    "y_pred_rf = best_random_forest.predict(X_test)\n",
    "\n",
    "# Mengukur akurasi model Random Forest\n",
    "accuracy_rf = accuracy_score(y_test, y_pred_rf)\n",
    "\n",
    "print(\"Akurasi Random Forest:\", accuracy_rf)\n",
    "print(\"Parameter terbaik Random Forest:\", grid_search_rf.best_params_)\n"
   ]
  }
 ],
 "metadata": {
  "kernelspec": {
   "display_name": "base",
   "language": "python",
   "name": "python3"
  },
  "language_info": {
   "codemirror_mode": {
    "name": "ipython",
    "version": 3
   },
   "file_extension": ".py",
   "mimetype": "text/x-python",
   "name": "python",
   "nbconvert_exporter": "python",
   "pygments_lexer": "ipython3",
   "version": "3.11.4"
  },
  "orig_nbformat": 4
 },
 "nbformat": 4,
 "nbformat_minor": 2
}
