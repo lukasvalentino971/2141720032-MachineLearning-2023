{
 "cells": [
  {
   "cell_type": "markdown",
   "metadata": {},
   "source": [
    "### Tugas"
   ]
  },
  {
   "cell_type": "markdown",
   "metadata": {},
   "source": [
    "Buatlah model klasifikasi dengan menggunakan SVM untuk data suara, voice.csv. \n",
    "Buatlah model klasfikasi Multinomial Naive Bayes dengan ketentuan,\n",
    "Menggunakan data spam.csv\n",
    "Fitur CountVectorizer dengan mengaktifkan stop_words\n",
    "Evaluasi hasilnya\n",
    "Buatlah model klasfikasi Multinomial Naive Bayes dengan ketentuan,\n",
    "Menggunakan data spam.csv\n",
    "Fitur TF-IDF dengan mengaktifkan stop_words\n",
    "Evaluasi hasilnya dan bandingkan dengan hasil pada Tugas no 2.\n",
    "Berikan kesimpulan fitur mana yang terbaik pada kasus data spam.csv"
   ]
  }
 ],
 "metadata": {
  "kernelspec": {
   "display_name": "base",
   "language": "python",
   "name": "python3"
  },
  "language_info": {
   "codemirror_mode": {
    "name": "ipython",
    "version": 3
   },
   "file_extension": ".py",
   "mimetype": "text/x-python",
   "name": "python",
   "nbconvert_exporter": "python",
   "pygments_lexer": "ipython3",
   "version": "3.11.4"
  },
  "orig_nbformat": 4
 },
 "nbformat": 4,
 "nbformat_minor": 2
}
