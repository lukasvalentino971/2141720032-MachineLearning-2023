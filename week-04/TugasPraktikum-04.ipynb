{
 "cells": [
  {
   "cell_type": "markdown",
   "metadata": {},
   "source": [
    "### Tugas"
   ]
  },
  {
   "cell_type": "markdown",
   "metadata": {},
   "source": [
    "Buatlah model klasifikasi dengan menggunakan SVM untuk data suara, voice.csv. \n",
    "Buatlah model klasfikasi Multinomial Naive Bayes dengan ketentuan,\n",
    "Menggunakan data spam.csv\n",
    "Fitur CountVectorizer dengan mengaktifkan stop_words\n",
    "Evaluasi hasilnya\n",
    "Buatlah model klasfikasi Multinomial Naive Bayes dengan ketentuan,\n",
    "Menggunakan data spam.csv\n",
    "Fitur TF-IDF dengan mengaktifkan stop_words\n",
    "Evaluasi hasilnya dan bandingkan dengan hasil pada Tugas no 2.\n",
    "Berikan kesimpulan fitur mana yang terbaik pada kasus data spam.csv"
   ]
  },
  {
   "cell_type": "code",
   "execution_count": 2,
   "metadata": {},
   "outputs": [
    {
     "name": "stdout",
     "output_type": "stream",
     "text": [
      "Accuracy: 0.9416403785488959\n",
      "Classification Report:\n",
      "              precision    recall  f1-score   support\n",
      "\n",
      "           0       0.98      0.89      0.93       297\n",
      "           1       0.91      0.99      0.95       337\n",
      "\n",
      "    accuracy                           0.94       634\n",
      "   macro avg       0.95      0.94      0.94       634\n",
      "weighted avg       0.94      0.94      0.94       634\n",
      "\n"
     ]
    }
   ],
   "source": [
    "# Impor pustaka yang diperlukan\n",
    "import pandas as pd\n",
    "from sklearn.model_selection import train_test_split\n",
    "from sklearn.preprocessing import LabelEncoder\n",
    "from sklearn.svm import SVC\n",
    "from sklearn.metrics import accuracy_score, classification_report\n",
    "\n",
    "# Baca data suara (voice.csv)\n",
    "voice_data = pd.read_csv('data/voice.csv')\n",
    "\n",
    "# Pisahkan fitur (X) dan label (y)\n",
    "X = voice_data.drop('label', axis=1)\n",
    "y = voice_data['label']\n",
    "\n",
    "# Konversi label menjadi angka menggunakan LabelEncoder\n",
    "label_encoder = LabelEncoder()\n",
    "y = label_encoder.fit_transform(y)\n",
    "\n",
    "# Bagi data menjadi data latih dan data uji\n",
    "X_train, X_test, y_train, y_test = train_test_split(X, y, test_size=0.2, random_state=42)\n",
    "\n",
    "# Buat model SVM\n",
    "svm_model = SVC(kernel='linear', C=1.0)\n",
    "\n",
    "# Latih model\n",
    "svm_model.fit(X_train, y_train)\n",
    "\n",
    "# Lakukan prediksi\n",
    "y_pred = svm_model.predict(X_test)\n",
    "\n",
    "# Evaluasi model\n",
    "accuracy = accuracy_score(y_test, y_pred)\n",
    "report = classification_report(y_test, y_pred)\n",
    "\n",
    "print(f'Accuracy: {accuracy}')\n",
    "print('Classification Report:')\n",
    "print(report)\n"
   ]
  }
 ],
 "metadata": {
  "kernelspec": {
   "display_name": "base",
   "language": "python",
   "name": "python3"
  },
  "language_info": {
   "codemirror_mode": {
    "name": "ipython",
    "version": 3
   },
   "file_extension": ".py",
   "mimetype": "text/x-python",
   "name": "python",
   "nbconvert_exporter": "python",
   "pygments_lexer": "ipython3",
   "version": "3.11.4"
  },
  "orig_nbformat": 4
 },
 "nbformat": 4,
 "nbformat_minor": 2
}
