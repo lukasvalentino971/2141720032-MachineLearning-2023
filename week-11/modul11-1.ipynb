{
  "nbformat": 4,
  "nbformat_minor": 0,
  "metadata": {
    "colab": {
      "provenance": [],
      "gpuType": "T4"
    },
    "kernelspec": {
      "name": "python3",
      "display_name": "Python 3"
    },
    "language_info": {
      "name": "python"
    },
    "accelerator": "GPU"
  },
  "cells": [
    {
      "cell_type": "markdown",
      "source": [
        "## Praktikum 1"
      ],
      "metadata": {
        "id": "c-978Xd5J0xr"
      }
    },
    {
      "cell_type": "markdown",
      "source": [
        "Deskripsi\n",
        "Pada praktikum ini kita akan membuat model klasifikasi CNN sederhana pada kasus citra kucing dan anjing.\n",
        "Dataset\n",
        "Dataset merupakan data citra anjing dan kucing yang telah dibagi menjadi data training dan data testing. Dikarenakan data cukup besar, pastikan koneksi Anda sebelum mengunduh dataset."
      ],
      "metadata": {
        "id": "wdY2r-ukKAnB"
      }
    },
    {
      "cell_type": "markdown",
      "source": [
        "Langkah 1 - Import Library"
      ],
      "metadata": {
        "id": "X5EvzZwJKEev"
      }
    },
    {
      "cell_type": "code",
      "source": [
        "import tensorflow as tf\n",
        "from keras.preprocessing.image import ImageDataGenerator"
      ],
      "metadata": {
        "id": "M38GYzlWKHCO"
      },
      "execution_count": 17,
      "outputs": []
    },
    {
      "cell_type": "markdown",
      "source": [
        "Langkah 2 - Pra Pengolahan Data"
      ],
      "metadata": {
        "id": "3SuzFDwkKRjf"
      }
    },
    {
      "cell_type": "markdown",
      "source": [
        "Pada tahap ini kita akan sedikit melakukan manipulasi pada citra yang digunakan. Manipulasi yang dilakukan diantaranya adalah normalisasi nilai piksel, koreksi kemiringan, pembesaran (zoom), dan flip.\n",
        "\n",
        "Langkah 2.1. Pra Pengolahan Data Training"
      ],
      "metadata": {
        "id": "h34rCUvgKTjX"
      }
    },
    {
      "cell_type": "code",
      "source": [
        "train_datagen = ImageDataGenerator(rescale = 1./255,\n",
        "                                   shear_range = 0.2,\n",
        "                                   zoom_range = 0.2,\n",
        "                                   horizontal_flip = True)\n",
        "training_set = train_datagen.flow_from_directory('/content/drive/MyDrive/ML_2023/dataset/training_set',\n",
        "                                                 target_size = (64, 64),\n",
        "                                                 batch_size = 32,\n",
        "                                                 class_mode = 'binary')"
      ],
      "metadata": {
        "colab": {
          "base_uri": "https://localhost:8080/"
        },
        "id": "-fpeGPpwKWZI",
        "outputId": "e9bafc0d-5494-4685-b271-28c988c7962a"
      },
      "execution_count": 18,
      "outputs": [
        {
          "output_type": "stream",
          "name": "stdout",
          "text": [
            "Found 624 images belonging to 2 classes.\n"
          ]
        }
      ]
    },
    {
      "cell_type": "markdown",
      "source": [
        "Langkah 2.2. Pra Pengolahan Data Testing"
      ],
      "metadata": {
        "id": "sfEjRIjNK40i"
      }
    },
    {
      "cell_type": "code",
      "source": [
        "test_datagen = ImageDataGenerator(rescale = 1./255)\n",
        "test_set = test_datagen.flow_from_directory('/content/drive/MyDrive/ML_2023/dataset/test_set',\n",
        "                                            target_size = (64, 64),\n",
        "                                            batch_size = 32,\n",
        "                                            class_mode = 'binary')"
      ],
      "metadata": {
        "colab": {
          "base_uri": "https://localhost:8080/"
        },
        "id": "g7BzTTW2K5TP",
        "outputId": "7e7975e8-e38a-450a-9c8d-96437822458e"
      },
      "execution_count": 19,
      "outputs": [
        {
          "output_type": "stream",
          "name": "stdout",
          "text": [
            "Found 2000 images belonging to 2 classes.\n"
          ]
        }
      ]
    },
    {
      "cell_type": "markdown",
      "source": [
        "Langkah 3 - Pembuatan Model CNN"
      ],
      "metadata": {
        "id": "ithy6V8QLGag"
      }
    },
    {
      "cell_type": "markdown",
      "source": [
        "Langkah 3.1.  - Inisiasi Model CNN"
      ],
      "metadata": {
        "id": "YRgdZoC6LIcq"
      }
    },
    {
      "cell_type": "code",
      "source": [
        "cnn = tf.keras.models.Sequential()"
      ],
      "metadata": {
        "id": "AAYkohYrLG5L"
      },
      "execution_count": 20,
      "outputs": []
    },
    {
      "cell_type": "markdown",
      "source": [
        "Langkah 3.2. - Pembuatan Layer Konvolusi 1"
      ],
      "metadata": {
        "id": "FWHQ_3A4LMiw"
      }
    },
    {
      "cell_type": "code",
      "source": [
        "cnn.add(tf.keras.layers.Conv2D(filters=32, kernel_size=3, activation='relu', input_shape=[64, 64, 3]))"
      ],
      "metadata": {
        "id": "jLUgaI3cLM35"
      },
      "execution_count": 21,
      "outputs": []
    },
    {
      "cell_type": "markdown",
      "source": [
        "Langkah 3.3 - Pembuatan Layer Pooling 1"
      ],
      "metadata": {
        "id": "nq17DLdCLPf_"
      }
    },
    {
      "cell_type": "code",
      "source": [
        "cnn.add(tf.keras.layers.MaxPool2D(pool_size=2, strides=2))"
      ],
      "metadata": {
        "id": "989OvKa_LQSP"
      },
      "execution_count": 22,
      "outputs": []
    },
    {
      "cell_type": "markdown",
      "source": [
        "Langkah 3.4 - Pembuatan Layer Konvolusi 2 dan Pooling 2"
      ],
      "metadata": {
        "id": "e__7hMovLTtQ"
      }
    },
    {
      "cell_type": "code",
      "source": [
        "cnn.add(tf.keras.layers.Conv2D(filters=32, kernel_size=3, activation='relu'))\n",
        "cnn.add(tf.keras.layers.MaxPool2D(pool_size=2, strides=2))"
      ],
      "metadata": {
        "id": "zH3klWlWLU23"
      },
      "execution_count": 23,
      "outputs": []
    },
    {
      "cell_type": "markdown",
      "source": [
        "Langkah 3.5 - Flattening"
      ],
      "metadata": {
        "id": "stE52iYkLXD_"
      }
    },
    {
      "cell_type": "code",
      "source": [
        "cnn.add(tf.keras.layers.Flatten())"
      ],
      "metadata": {
        "id": "FiGyYxaKLYBW"
      },
      "execution_count": 24,
      "outputs": []
    },
    {
      "cell_type": "markdown",
      "source": [
        "Langkah 3.6 - Fully Connected Layer 1 (Input)"
      ],
      "metadata": {
        "id": "6Y01TLayLb9v"
      }
    },
    {
      "cell_type": "code",
      "source": [
        "cnn.add(tf.keras.layers.Dense(units=128, activation='relu'))"
      ],
      "metadata": {
        "id": "ktxEThjuLc7K"
      },
      "execution_count": 25,
      "outputs": []
    },
    {
      "cell_type": "markdown",
      "source": [
        "Langkah 3.7 - Fully Connected Layer 2 (Output)"
      ],
      "metadata": {
        "id": "r3-j_14oLe-P"
      }
    },
    {
      "cell_type": "code",
      "source": [
        "cnn.add(tf.keras.layers.Dense(units=1, activation='sigmoid'))"
      ],
      "metadata": {
        "id": "7SgahsOJLfvm"
      },
      "execution_count": 26,
      "outputs": []
    },
    {
      "cell_type": "markdown",
      "source": [
        "Langkah 3.8 - Compile Model CNN"
      ],
      "metadata": {
        "id": "a7B5ZdVuLhou"
      }
    },
    {
      "cell_type": "code",
      "source": [
        "cnn.compile(optimizer = 'adam', loss = 'binary_crossentropy', metrics = ['accuracy'])"
      ],
      "metadata": {
        "id": "zjFibvXXLiCo"
      },
      "execution_count": 27,
      "outputs": []
    },
    {
      "cell_type": "markdown",
      "source": [
        "Penggunaan loss function binary crossentropy dikarenakan kita hanya melakukan klasifikasi pada dua kelas, yaitu kucing dan anjing."
      ],
      "metadata": {
        "id": "dDSbDZGPLkkv"
      }
    },
    {
      "cell_type": "markdown",
      "source": [
        "Langkah 4 - Fit CNN"
      ],
      "metadata": {
        "id": "isvGUwyjLmxn"
      }
    },
    {
      "cell_type": "code",
      "source": [
        "cnn.fit(x = training_set, validation_data = test_set, epochs = 25)"
      ],
      "metadata": {
        "colab": {
          "base_uri": "https://localhost:8080/"
        },
        "id": "XygJPsNILnmH",
        "outputId": "545e0e1c-162e-454e-da67-fa8641829f0e"
      },
      "execution_count": 28,
      "outputs": [
        {
          "output_type": "stream",
          "name": "stdout",
          "text": [
            "Epoch 1/25\n",
            "20/20 [==============================] - 1113s 58s/step - loss: 0.0326 - accuracy: 1.0000 - val_loss: 38.9703 - val_accuracy: 0.5000\n",
            "Epoch 2/25\n",
            "20/20 [==============================] - 7s 355ms/step - loss: 1.4088e-17 - accuracy: 1.0000 - val_loss: 49.4141 - val_accuracy: 0.5000\n",
            "Epoch 3/25\n",
            "20/20 [==============================] - 8s 407ms/step - loss: 1.4042e-20 - accuracy: 1.0000 - val_loss: 51.1523 - val_accuracy: 0.5000\n",
            "Epoch 4/25\n",
            "20/20 [==============================] - 7s 354ms/step - loss: 2.7395e-20 - accuracy: 1.0000 - val_loss: 51.4076 - val_accuracy: 0.5000\n",
            "Epoch 5/25\n",
            "20/20 [==============================] - 8s 388ms/step - loss: 2.7546e-20 - accuracy: 1.0000 - val_loss: 51.4431 - val_accuracy: 0.5000\n",
            "Epoch 6/25\n",
            "20/20 [==============================] - 7s 362ms/step - loss: 7.9252e-22 - accuracy: 1.0000 - val_loss: 51.4480 - val_accuracy: 0.5000\n",
            "Epoch 7/25\n",
            "20/20 [==============================] - 7s 379ms/step - loss: 1.4597e-16 - accuracy: 1.0000 - val_loss: 51.4485 - val_accuracy: 0.5000\n",
            "Epoch 8/25\n",
            "20/20 [==============================] - 7s 378ms/step - loss: 2.7297e-20 - accuracy: 1.0000 - val_loss: 51.4485 - val_accuracy: 0.5000\n",
            "Epoch 9/25\n",
            "20/20 [==============================] - 7s 366ms/step - loss: 3.0197e-20 - accuracy: 1.0000 - val_loss: 51.4485 - val_accuracy: 0.5000\n",
            "Epoch 10/25\n",
            "20/20 [==============================] - 7s 379ms/step - loss: 5.0307e-21 - accuracy: 1.0000 - val_loss: 51.4485 - val_accuracy: 0.5000\n",
            "Epoch 11/25\n",
            "20/20 [==============================] - 7s 351ms/step - loss: 1.0891e-19 - accuracy: 1.0000 - val_loss: 51.4485 - val_accuracy: 0.5000\n",
            "Epoch 12/25\n",
            "20/20 [==============================] - 7s 344ms/step - loss: 3.6307e-15 - accuracy: 1.0000 - val_loss: 51.4485 - val_accuracy: 0.5000\n",
            "Epoch 13/25\n",
            "20/20 [==============================] - 8s 394ms/step - loss: 7.3307e-20 - accuracy: 1.0000 - val_loss: 51.4485 - val_accuracy: 0.5000\n",
            "Epoch 14/25\n",
            "20/20 [==============================] - 7s 354ms/step - loss: 1.0853e-20 - accuracy: 1.0000 - val_loss: 51.4485 - val_accuracy: 0.5000\n",
            "Epoch 15/25\n",
            "20/20 [==============================] - 8s 394ms/step - loss: 1.2551e-20 - accuracy: 1.0000 - val_loss: 51.4485 - val_accuracy: 0.5000\n",
            "Epoch 16/25\n",
            "20/20 [==============================] - 7s 349ms/step - loss: 3.5143e-21 - accuracy: 1.0000 - val_loss: 51.4485 - val_accuracy: 0.5000\n",
            "Epoch 17/25\n",
            "20/20 [==============================] - 7s 387ms/step - loss: 1.2069e-20 - accuracy: 1.0000 - val_loss: 51.4485 - val_accuracy: 0.5000\n",
            "Epoch 18/25\n",
            "20/20 [==============================] - 7s 348ms/step - loss: 1.3165e-20 - accuracy: 1.0000 - val_loss: 51.4486 - val_accuracy: 0.5000\n",
            "Epoch 19/25\n",
            "20/20 [==============================] - 8s 402ms/step - loss: 9.4319e-18 - accuracy: 1.0000 - val_loss: 51.4485 - val_accuracy: 0.5000\n",
            "Epoch 20/25\n",
            "20/20 [==============================] - 7s 355ms/step - loss: 9.8233e-21 - accuracy: 1.0000 - val_loss: 51.4485 - val_accuracy: 0.5000\n",
            "Epoch 21/25\n",
            "20/20 [==============================] - 7s 347ms/step - loss: 3.0610e-20 - accuracy: 1.0000 - val_loss: 51.4485 - val_accuracy: 0.5000\n",
            "Epoch 22/25\n",
            "20/20 [==============================] - 7s 354ms/step - loss: 6.2568e-21 - accuracy: 1.0000 - val_loss: 51.4485 - val_accuracy: 0.5000\n",
            "Epoch 23/25\n",
            "20/20 [==============================] - 7s 375ms/step - loss: 7.8051e-21 - accuracy: 1.0000 - val_loss: 51.4485 - val_accuracy: 0.5000\n",
            "Epoch 24/25\n",
            "20/20 [==============================] - 7s 350ms/step - loss: 1.7028e-20 - accuracy: 1.0000 - val_loss: 51.4485 - val_accuracy: 0.5000\n",
            "Epoch 25/25\n",
            "20/20 [==============================] - 8s 391ms/step - loss: 1.4989e-20 - accuracy: 1.0000 - val_loss: 51.4485 - val_accuracy: 0.5000\n"
          ]
        },
        {
          "output_type": "execute_result",
          "data": {
            "text/plain": [
              "<keras.src.callbacks.History at 0x7fd8c428bfd0>"
            ]
          },
          "metadata": {},
          "execution_count": 28
        }
      ]
    },
    {
      "cell_type": "markdown",
      "source": [
        "Langkah 5 - Prediksi dengan 1 Citra\n",
        "Pada langkah ini, kita akan mencoba melakukan prediksi pada 1 citra anjing dan kucing."
      ],
      "metadata": {
        "id": "TAsJfFQBMVuQ"
      }
    },
    {
      "cell_type": "code",
      "source": [
        "import numpy as np\n",
        "from keras.preprocessing import image\n",
        "test_image = image.load_img('/content/drive/MyDrive/ML_2023/dataset/single_prediction/cat_or_dog_1.jpg', target_size = (64, 64))\n",
        "test_image = image.img_to_array(test_image)\n",
        "test_image = np.expand_dims(test_image, axis = 0)\n",
        "result = cnn.predict(test_image)\n",
        "training_set.class_indices\n",
        "if result[0][0] == 1:\n",
        "  prediction = 'dog'\n",
        "else:\n",
        "  prediction = 'cat'"
      ],
      "metadata": {
        "colab": {
          "base_uri": "https://localhost:8080/"
        },
        "id": "Imlf9eJLRXJH",
        "outputId": "f083392a-b2fe-4391-a336-f6f197b0cbde"
      },
      "execution_count": 30,
      "outputs": [
        {
          "output_type": "stream",
          "name": "stdout",
          "text": [
            "1/1 [==============================] - 0s 151ms/step\n"
          ]
        }
      ]
    },
    {
      "cell_type": "code",
      "source": [],
      "metadata": {
        "id": "7-aoJB6TRX5I"
      },
      "execution_count": null,
      "outputs": []
    }
  ]
}